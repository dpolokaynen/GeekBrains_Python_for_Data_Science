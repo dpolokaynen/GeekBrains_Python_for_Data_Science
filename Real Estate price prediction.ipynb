{
 "cells": [
  {
   "cell_type": "markdown",
   "metadata": {},
   "source": [
    "# Предсказание цен на недвижимость"
   ]
  },
  {
   "cell_type": "markdown",
   "metadata": {},
   "source": [
    "Задачей проекта является построение модель для предсказания цен на недвижимость\n",
    "\n",
    "Ключевая метрика - R^2\n",
    "\n",
    "Исходные данные состоят из 3 файлов:\n",
    "1. Данные для обучения - train.csv\n",
    "2. Тестовые данные - test.csv\n",
    "3. Файл для созранения предсказаний с id квартир - sample_submission.csv\n",
    "\n",
    "Ссылка на проект:\n",
    "https://www.kaggle.com/c/real-estate-price-prediction-moscow"
   ]
  },
  {
   "cell_type": "markdown",
   "metadata": {},
   "source": [
    "# Оглавление <a class=\"anchor\" id=\"0-bullet\"></a>"
   ]
  },
  {
   "cell_type": "markdown",
   "metadata": {},
   "source": [
    "* [Загрузка и подготовка данных](#1-bullet)\n",
    "* [Обучение модели](#2-bullet)\n",
    "* [Тестирование модели](#3-bullet)"
   ]
  },
  {
   "cell_type": "markdown",
   "metadata": {},
   "source": [
    "# 1. Загрузка и подготовка данных  <a class=\"anchor\" id=\"1-bullet\"></a>\n",
    "[Обратно в оглавление](#0-bullet)"
   ]
  },
  {
   "cell_type": "markdown",
   "metadata": {},
   "source": [
    "Подключение библиотек"
   ]
  },
  {
   "cell_type": "code",
   "execution_count": 37,
   "metadata": {},
   "outputs": [
    {
     "name": "stderr",
     "output_type": "stream",
     "text": [
      "\"{sys.executable}\" ­Ґ пў«пҐвбп ў­гваҐ­­Ґ© Ё«Ё ў­Ґи­Ґ©\n",
      "Є®¬ ­¤®©, ЁбЇ®«­пҐ¬®© Їа®Ја ¬¬®© Ё«Ё Ї ЄҐв­л¬ д ©«®¬.\n"
     ]
    },
    {
     "name": "stdout",
     "output_type": "stream",
     "text": [
      "Requirement already satisfied: xgboost in c:\\users\\polda\\anaconda3\\lib\\site-packages (1.4.2)\n",
      "Requirement already satisfied: scipy in c:\\users\\polda\\anaconda3\\lib\\site-packages (from xgboost) (1.5.0)\n",
      "Requirement already satisfied: numpy in c:\\users\\polda\\anaconda3\\lib\\site-packages (from xgboost) (1.18.5)\n"
     ]
    }
   ],
   "source": [
    "#Работа с DataFrame\n",
    "import pandas as pd\n",
    "!{sys.executable} -m pip install pandas-profiling\n",
    "import pandas_profiling \n",
    "#Работа с массивами\n",
    "import numpy as np\n",
    "#Графики\n",
    "import matplotlib.pyplot as plt\n",
    "import seaborn as sns\n",
    "#Заполнение пропусков\n",
    "from random import *\n",
    "#Разделение выборки\n",
    "from sklearn.model_selection import train_test_split\n",
    "#Нормирование\n",
    "from sklearn.compose import ColumnTransformer\n",
    "from sklearn.preprocessing import StandardScaler\n",
    "#Обучение моделей\n",
    "from sklearn.model_selection import GridSearchCV, RandomizedSearchCV\n",
    "from sklearn.tree import DecisionTreeRegressor\n",
    "from sklearn.ensemble import RandomForestRegressor\n",
    "from sklearn.linear_model import LogisticRegression\n",
    "from sklearn.linear_model import LinearRegression\n",
    "import statsmodels.api as sm\n",
    "#XGBoost\n",
    "!pip install xgboost \n",
    "import xgboost as xgb\n",
    "from xgboost import XGBRegressor\n",
    "#Метрика R2\n",
    "from sklearn.metrics import r2_score\n",
    "#Отмена вывода предупреждений\n",
    "import warnings"
   ]
  },
  {
   "cell_type": "markdown",
   "metadata": {},
   "source": [
    "Открытие файлов"
   ]
  },
  {
   "cell_type": "code",
   "execution_count": 38,
   "metadata": {},
   "outputs": [],
   "source": [
    "train_data = pd.read_csv('train.csv')\n",
    "test_data = pd.read_csv('test.csv')\n",
    "sample_submission = pd.read_csv('sample_submission.csv')"
   ]
  },
  {
   "cell_type": "markdown",
   "metadata": {},
   "source": [
    "Посмотрим, на основе каких данных будем строить прогнозы"
   ]
  },
  {
   "cell_type": "code",
   "execution_count": 39,
   "metadata": {},
   "outputs": [
    {
     "data": {
      "text/html": [
       "<div>\n",
       "<style scoped>\n",
       "    .dataframe tbody tr th:only-of-type {\n",
       "        vertical-align: middle;\n",
       "    }\n",
       "\n",
       "    .dataframe tbody tr th {\n",
       "        vertical-align: top;\n",
       "    }\n",
       "\n",
       "    .dataframe thead th {\n",
       "        text-align: right;\n",
       "    }\n",
       "</style>\n",
       "<table border=\"1\" class=\"dataframe\">\n",
       "  <thead>\n",
       "    <tr style=\"text-align: right;\">\n",
       "      <th></th>\n",
       "      <th>Id</th>\n",
       "      <th>DistrictId</th>\n",
       "      <th>Rooms</th>\n",
       "      <th>Square</th>\n",
       "      <th>LifeSquare</th>\n",
       "      <th>KitchenSquare</th>\n",
       "      <th>Floor</th>\n",
       "      <th>HouseFloor</th>\n",
       "      <th>HouseYear</th>\n",
       "      <th>Ecology_1</th>\n",
       "      <th>Ecology_2</th>\n",
       "      <th>Ecology_3</th>\n",
       "      <th>Social_1</th>\n",
       "      <th>Social_2</th>\n",
       "      <th>Social_3</th>\n",
       "      <th>Healthcare_1</th>\n",
       "      <th>Helthcare_2</th>\n",
       "      <th>Shops_1</th>\n",
       "      <th>Shops_2</th>\n",
       "      <th>Price</th>\n",
       "    </tr>\n",
       "  </thead>\n",
       "  <tbody>\n",
       "    <tr>\n",
       "      <th>0</th>\n",
       "      <td>11809</td>\n",
       "      <td>27</td>\n",
       "      <td>3.0</td>\n",
       "      <td>115.027311</td>\n",
       "      <td>NaN</td>\n",
       "      <td>10.0</td>\n",
       "      <td>4</td>\n",
       "      <td>10.0</td>\n",
       "      <td>2014</td>\n",
       "      <td>0.075424</td>\n",
       "      <td>B</td>\n",
       "      <td>B</td>\n",
       "      <td>11</td>\n",
       "      <td>3097</td>\n",
       "      <td>0</td>\n",
       "      <td>NaN</td>\n",
       "      <td>0</td>\n",
       "      <td>0</td>\n",
       "      <td>B</td>\n",
       "      <td>305018.871089</td>\n",
       "    </tr>\n",
       "    <tr>\n",
       "      <th>1</th>\n",
       "      <td>3013</td>\n",
       "      <td>22</td>\n",
       "      <td>1.0</td>\n",
       "      <td>39.832524</td>\n",
       "      <td>23.169223</td>\n",
       "      <td>8.0</td>\n",
       "      <td>7</td>\n",
       "      <td>8.0</td>\n",
       "      <td>1966</td>\n",
       "      <td>0.118537</td>\n",
       "      <td>B</td>\n",
       "      <td>B</td>\n",
       "      <td>30</td>\n",
       "      <td>6207</td>\n",
       "      <td>1</td>\n",
       "      <td>1183.0</td>\n",
       "      <td>1</td>\n",
       "      <td>0</td>\n",
       "      <td>B</td>\n",
       "      <td>177734.553407</td>\n",
       "    </tr>\n",
       "    <tr>\n",
       "      <th>2</th>\n",
       "      <td>8215</td>\n",
       "      <td>1</td>\n",
       "      <td>3.0</td>\n",
       "      <td>78.342215</td>\n",
       "      <td>47.671972</td>\n",
       "      <td>10.0</td>\n",
       "      <td>2</td>\n",
       "      <td>17.0</td>\n",
       "      <td>1988</td>\n",
       "      <td>0.025609</td>\n",
       "      <td>B</td>\n",
       "      <td>B</td>\n",
       "      <td>33</td>\n",
       "      <td>5261</td>\n",
       "      <td>0</td>\n",
       "      <td>240.0</td>\n",
       "      <td>3</td>\n",
       "      <td>1</td>\n",
       "      <td>B</td>\n",
       "      <td>282078.720850</td>\n",
       "    </tr>\n",
       "  </tbody>\n",
       "</table>\n",
       "</div>"
      ],
      "text/plain": [
       "      Id  DistrictId  Rooms      Square  LifeSquare  KitchenSquare  Floor  \\\n",
       "0  11809          27    3.0  115.027311         NaN           10.0      4   \n",
       "1   3013          22    1.0   39.832524   23.169223            8.0      7   \n",
       "2   8215           1    3.0   78.342215   47.671972           10.0      2   \n",
       "\n",
       "   HouseFloor  HouseYear  Ecology_1 Ecology_2 Ecology_3  Social_1  Social_2  \\\n",
       "0        10.0       2014   0.075424         B         B        11      3097   \n",
       "1         8.0       1966   0.118537         B         B        30      6207   \n",
       "2        17.0       1988   0.025609         B         B        33      5261   \n",
       "\n",
       "   Social_3  Healthcare_1  Helthcare_2  Shops_1 Shops_2          Price  \n",
       "0         0           NaN            0        0       B  305018.871089  \n",
       "1         1        1183.0            1        0       B  177734.553407  \n",
       "2         0         240.0            3        1       B  282078.720850  "
      ]
     },
     "metadata": {},
     "output_type": "display_data"
    },
    {
     "data": {
      "application/vnd.jupyter.widget-view+json": {
       "model_id": "be173ba20c5a465994388ee58a366ccd",
       "version_major": 2,
       "version_minor": 0
      },
      "text/plain": [
       "Summarize dataset:   0%|          | 0/33 [00:00<?, ?it/s]"
      ]
     },
     "metadata": {},
     "output_type": "display_data"
    },
    {
     "data": {
      "application/vnd.jupyter.widget-view+json": {
       "model_id": "90f0fca702d947208d76370c97b68e52",
       "version_major": 2,
       "version_minor": 0
      },
      "text/plain": [
       "Generate report structure:   0%|          | 0/1 [00:00<?, ?it/s]"
      ]
     },
     "metadata": {},
     "output_type": "display_data"
    },
    {
     "data": {
      "application/vnd.jupyter.widget-view+json": {
       "model_id": "149634648f6c40d7a2751641dd828694",
       "version_major": 2,
       "version_minor": 0
      },
      "text/plain": [
       "Render HTML:   0%|          | 0/1 [00:00<?, ?it/s]"
      ]
     },
     "metadata": {},
     "output_type": "display_data"
    },
    {
     "data": {
      "application/vnd.jupyter.widget-view+json": {
       "model_id": "1f78db1da54243f6b07499777fb60322",
       "version_major": 2,
       "version_minor": 0
      },
      "text/plain": [
       "Export report to file:   0%|          | 0/1 [00:00<?, ?it/s]"
      ]
     },
     "metadata": {},
     "output_type": "display_data"
    }
   ],
   "source": [
    "display(train_data.head(3))\n",
    "pandas_profiling.ProfileReport(train_data).to_file('Report_train.html')"
   ]
  },
  {
   "cell_type": "markdown",
   "metadata": {},
   "source": [
    "#### Данные содержат следующие колонки:\n",
    "* Район\n",
    "* Количество комнат\n",
    "* Площадь (Общая, жилая, плоащадь кухни)\n",
    "* Этаж, Количество этажей в доме\n",
    "* Год постройки дома\n",
    "* Оценка экологии (Ecology) (3 столбца, первый - оценка в числовом значении, второй и третий - класс экологичности)\n",
    "* Оценка окружения (Social) (3 столбца, первый и второй - оценка в числовом значении, третий - класс окружения)\n",
    "* Оценка здравоохранения (Healthcare) (2 столбца, первый - оценка в числовом значении, второй - класс здравоохранения)\n",
    "* Нличие магазинов (Shops) (2 столбца, первый - булевый с наличием магазинов, второй - класс магазинов)\n",
    "* Цена кваритры"
   ]
  },
  {
   "cell_type": "markdown",
   "metadata": {},
   "source": [
    "Посмотрим на пропуски в данных"
   ]
  },
  {
   "cell_type": "code",
   "execution_count": 4,
   "metadata": {},
   "outputs": [
    {
     "name": "stdout",
     "output_type": "stream",
     "text": [
      "<class 'pandas.core.frame.DataFrame'>\n",
      "RangeIndex: 10000 entries, 0 to 9999\n",
      "Data columns (total 20 columns):\n",
      " #   Column         Non-Null Count  Dtype  \n",
      "---  ------         --------------  -----  \n",
      " 0   Id             10000 non-null  int64  \n",
      " 1   DistrictId     10000 non-null  int64  \n",
      " 2   Rooms          10000 non-null  float64\n",
      " 3   Square         10000 non-null  float64\n",
      " 4   LifeSquare     7887 non-null   float64\n",
      " 5   KitchenSquare  10000 non-null  float64\n",
      " 6   Floor          10000 non-null  int64  \n",
      " 7   HouseFloor     10000 non-null  float64\n",
      " 8   HouseYear      10000 non-null  int64  \n",
      " 9   Ecology_1      10000 non-null  float64\n",
      " 10  Ecology_2      10000 non-null  object \n",
      " 11  Ecology_3      10000 non-null  object \n",
      " 12  Social_1       10000 non-null  int64  \n",
      " 13  Social_2       10000 non-null  int64  \n",
      " 14  Social_3       10000 non-null  int64  \n",
      " 15  Healthcare_1   5202 non-null   float64\n",
      " 16  Helthcare_2    10000 non-null  int64  \n",
      " 17  Shops_1        10000 non-null  int64  \n",
      " 18  Shops_2        10000 non-null  object \n",
      " 19  Price          10000 non-null  float64\n",
      "dtypes: float64(8), int64(9), object(3)\n",
      "memory usage: 1.5+ MB\n"
     ]
    },
    {
     "data": {
      "text/plain": [
       "None"
      ]
     },
     "metadata": {},
     "output_type": "display_data"
    },
    {
     "name": "stdout",
     "output_type": "stream",
     "text": [
      "<class 'pandas.core.frame.DataFrame'>\n",
      "RangeIndex: 5000 entries, 0 to 4999\n",
      "Data columns (total 19 columns):\n",
      " #   Column         Non-Null Count  Dtype  \n",
      "---  ------         --------------  -----  \n",
      " 0   Id             5000 non-null   int64  \n",
      " 1   DistrictId     5000 non-null   int64  \n",
      " 2   Rooms          5000 non-null   float64\n",
      " 3   Square         5000 non-null   float64\n",
      " 4   LifeSquare     3959 non-null   float64\n",
      " 5   KitchenSquare  5000 non-null   float64\n",
      " 6   Floor          5000 non-null   int64  \n",
      " 7   HouseFloor     5000 non-null   float64\n",
      " 8   HouseYear      5000 non-null   int64  \n",
      " 9   Ecology_1      5000 non-null   float64\n",
      " 10  Ecology_2      5000 non-null   object \n",
      " 11  Ecology_3      5000 non-null   object \n",
      " 12  Social_1       5000 non-null   int64  \n",
      " 13  Social_2       5000 non-null   int64  \n",
      " 14  Social_3       5000 non-null   int64  \n",
      " 15  Healthcare_1   2623 non-null   float64\n",
      " 16  Helthcare_2    5000 non-null   int64  \n",
      " 17  Shops_1        5000 non-null   int64  \n",
      " 18  Shops_2        5000 non-null   object \n",
      "dtypes: float64(7), int64(9), object(3)\n",
      "memory usage: 742.3+ KB\n"
     ]
    },
    {
     "data": {
      "text/plain": [
       "None"
      ]
     },
     "metadata": {},
     "output_type": "display_data"
    },
    {
     "name": "stdout",
     "output_type": "stream",
     "text": [
      "<class 'pandas.core.frame.DataFrame'>\n",
      "RangeIndex: 5000 entries, 0 to 4999\n",
      "Data columns (total 2 columns):\n",
      " #   Column  Non-Null Count  Dtype  \n",
      "---  ------  --------------  -----  \n",
      " 0   Id      5000 non-null   int64  \n",
      " 1   Price   5000 non-null   float64\n",
      "dtypes: float64(1), int64(1)\n",
      "memory usage: 78.2 KB\n"
     ]
    },
    {
     "data": {
      "text/plain": [
       "None"
      ]
     },
     "metadata": {},
     "output_type": "display_data"
    }
   ],
   "source": [
    "display(train_data.info())\n",
    "display(test_data.info())\n",
    "display(sample_submission.info())"
   ]
  },
  {
   "cell_type": "markdown",
   "metadata": {},
   "source": [
    "Тестовая выборка и обучающая выборка содержит пропуски. В тестовой выборке не будем работать  пропусками, как в реальном проектае, а в обучающей выборке заполним пропуски. \n",
    "Количество пропусков в обучающей выборке:\n",
    "* Жилая площадь (LifeSquare): 2113, 21% от общего количества\n",
    "* Числовое значение для здравоохранения (Healthcare_1): 4798, 48% от общего количества"
   ]
  },
  {
   "cell_type": "markdown",
   "metadata": {},
   "source": [
    "### Заполнение пропусков\n",
    "* Для заполнения жилой площади создадим новый столбец: \n",
    "\n",
    "$other__square = Общая__площадь - Жилая__площадь - Площадь__кухни$\n",
    "\n",
    "\n",
    "other_square - это площадь коридоров, ванной комнаты, санузла, балконов. Затем заполним пропуски в other_square из-за пропусков в жилой площади средним значением в зависимости от количества комнат. Последним шагом расчитаем жилую площадь \n",
    "\n",
    "$Жилая__площадь = Общая__площадь - Площадь__кухни - other__square$\n",
    "\n",
    "\n",
    "* Для Healthcare_1 не понимаем взаимосвязь, поэтому заполним случайно от минимума до максимума, чтобы не смещать выборку"
   ]
  },
  {
   "cell_type": "code",
   "execution_count": 5,
   "metadata": {},
   "outputs": [],
   "source": [
    "#Создание столбца - Остальная площадь\n",
    "train_data['other_square'] = train_data['Square'] - train_data['LifeSquare'] - train_data['KitchenSquare']\n",
    "#Заполнение остальной плоащди по средними, сгруппированными по количеству комнат\n",
    "train_data['other_square'] = train_data['other_square'].fillna(train_data.groupby('Rooms')['other_square'].\n",
    "                                                                     transform('mean'))\n",
    "#Заполнение пропусков в жилой площади\n",
    "#train_data['LifeSquare_2'] = train_data['Square'] - train_data['other_square'] - train_data['KitchenSquare']\n",
    "train_data['LifeSquare'] = train_data['Square'] - train_data['other_square'] - train_data['KitchenSquare']\n",
    "#Удалим столбец other_square, так как он уже не нужен\n",
    "train_data = train_data.drop(columns = ['other_square'])"
   ]
  },
  {
   "cell_type": "code",
   "execution_count": 6,
   "metadata": {},
   "outputs": [],
   "source": [
    "#Заполнение пропусков в Healthcare_1\n",
    "max_healthcare = train_data['Healthcare_1'].max()\n",
    "min_healthcare = train_data['Healthcare_1'].min()\n",
    "null_index = train_data[train_data['Healthcare_1'].isnull()].index\n",
    "#display(null_index)\n",
    "for i in null_index:\n",
    "    train_data.loc[i,'Healthcare_1'] = randint(min_healthcare, max_healthcare)\n",
    "#display(train_data.groupby('Healthcare_1')['Healthcare_1'].count())"
   ]
  },
  {
   "cell_type": "markdown",
   "metadata": {},
   "source": [
    "Проверка пропусков"
   ]
  },
  {
   "cell_type": "code",
   "execution_count": 7,
   "metadata": {},
   "outputs": [
    {
     "data": {
      "text/plain": [
       "Id               0\n",
       "DistrictId       0\n",
       "Rooms            0\n",
       "Square           0\n",
       "LifeSquare       0\n",
       "KitchenSquare    0\n",
       "Floor            0\n",
       "HouseFloor       0\n",
       "HouseYear        0\n",
       "Ecology_1        0\n",
       "Ecology_2        0\n",
       "Ecology_3        0\n",
       "Social_1         0\n",
       "Social_2         0\n",
       "Social_3         0\n",
       "Healthcare_1     0\n",
       "Helthcare_2      0\n",
       "Shops_1          0\n",
       "Shops_2          0\n",
       "Price            0\n",
       "dtype: int64"
      ]
     },
     "execution_count": 7,
     "metadata": {},
     "output_type": "execute_result"
    }
   ],
   "source": [
    "train_data[train_data.isnull() == True].count()"
   ]
  },
  {
   "cell_type": "code",
   "execution_count": 8,
   "metadata": {},
   "outputs": [],
   "source": [
    "#Группировка остальной площади по количеству комнат\n",
    "#other_group = round(train_data.groupby('Rooms')['other_square'].mean(),2)\n",
    "#display(other_group)"
   ]
  },
  {
   "cell_type": "code",
   "execution_count": 9,
   "metadata": {},
   "outputs": [
    {
     "data": {
      "text/html": [
       "<div>\n",
       "<style scoped>\n",
       "    .dataframe tbody tr th:only-of-type {\n",
       "        vertical-align: middle;\n",
       "    }\n",
       "\n",
       "    .dataframe tbody tr th {\n",
       "        vertical-align: top;\n",
       "    }\n",
       "\n",
       "    .dataframe thead th {\n",
       "        text-align: right;\n",
       "    }\n",
       "</style>\n",
       "<table border=\"1\" class=\"dataframe\">\n",
       "  <thead>\n",
       "    <tr style=\"text-align: right;\">\n",
       "      <th></th>\n",
       "      <th>Id</th>\n",
       "      <th>DistrictId</th>\n",
       "      <th>Square</th>\n",
       "      <th>LifeSquare</th>\n",
       "      <th>KitchenSquare</th>\n",
       "      <th>Floor</th>\n",
       "      <th>HouseFloor</th>\n",
       "      <th>HouseYear</th>\n",
       "      <th>Ecology_1</th>\n",
       "      <th>Social_1</th>\n",
       "      <th>Social_2</th>\n",
       "      <th>Social_3</th>\n",
       "      <th>Healthcare_1</th>\n",
       "      <th>Helthcare_2</th>\n",
       "      <th>Shops_1</th>\n",
       "      <th>Price</th>\n",
       "    </tr>\n",
       "    <tr>\n",
       "      <th>Rooms</th>\n",
       "      <th></th>\n",
       "      <th></th>\n",
       "      <th></th>\n",
       "      <th></th>\n",
       "      <th></th>\n",
       "      <th></th>\n",
       "      <th></th>\n",
       "      <th></th>\n",
       "      <th></th>\n",
       "      <th></th>\n",
       "      <th></th>\n",
       "      <th></th>\n",
       "      <th></th>\n",
       "      <th></th>\n",
       "      <th></th>\n",
       "      <th></th>\n",
       "    </tr>\n",
       "  </thead>\n",
       "  <tbody>\n",
       "  </tbody>\n",
       "</table>\n",
       "</div>"
      ],
      "text/plain": [
       "Empty DataFrame\n",
       "Columns: [Id, DistrictId, Square, LifeSquare, KitchenSquare, Floor, HouseFloor, HouseYear, Ecology_1, Social_1, Social_2, Social_3, Healthcare_1, Helthcare_2, Shops_1, Price]\n",
       "Index: []"
      ]
     },
     "execution_count": 9,
     "metadata": {},
     "output_type": "execute_result"
    }
   ],
   "source": [
    "train_data[train_data['LifeSquare'].isnull() == True].groupby('Rooms').mean()"
   ]
  },
  {
   "cell_type": "markdown",
   "metadata": {},
   "source": [
    "Построим матрицу корреляций для признаков, чтобы выявить сильнокоррелирующие признаки. Исключение таких признаков решит проблему с мультиколлинеарностью"
   ]
  },
  {
   "cell_type": "code",
   "execution_count": 10,
   "metadata": {},
   "outputs": [
    {
     "data": {
      "image/png": "[encoded data removed]",
      "text/plain": [
       "<Figure size 1440x1440 with 2 Axes>"
      ]
     },
     "metadata": {
      "needs_background": "light"
     },
     "output_type": "display_data"
    }
   ],
   "source": [
    "plt.figure(figsize=(20,20))\n",
    "cor = round(train_data.corr(),1)\n",
    "sns.heatmap(cor, annot=True, cmap=plt.cm.Reds)\n",
    "plt.tick_params(axis='both', which='major', labelsize=10)\n",
    "plt.title('Матрица корреляций между признаками', fontsize=30)\n",
    "plt.show()"
   ]
  },
  {
   "cell_type": "markdown",
   "metadata": {},
   "source": [
    "* Social_1 и Social_2 имеют корреляцию в 1, исключим Social_2 из признаков\n",
    "* Высокая корреляция между количеством комнат (Rooms) и общей площадью (Square) = 0.7. Чем больше комнат, тем больше площадь и наоборот\n",
    "* А также между Shops_1 и Social_3. Гиотеза в том, что social_3 и shops_1 содержат переменную, которая оказывет благоприятное влияние на общественную жизнь и на наличие магазинов рядом. Это может быть близость к метро, торговый центр и т.д.\n",
    "\n",
    "#### Для дальнейшего анализа сделаем 2 дополнительных набора данных:\n",
    "1. train_data_light: Исключим Social_2\n",
    "2. train_data_hard: Исключим Social_2, Social_3, Square\n",
    "\n",
    "Также из каждого датасета удалим столбец с id и столбцы, которые не содержатся в тестовых данных: Ecology_2, Ecology_3"
   ]
  },
  {
   "cell_type": "code",
   "execution_count": 11,
   "metadata": {},
   "outputs": [
    {
     "name": "stdout",
     "output_type": "stream",
     "text": [
      "Index(['Id', 'DistrictId', 'Rooms', 'Square', 'LifeSquare', 'KitchenSquare',\n",
      "       'Floor', 'HouseFloor', 'HouseYear', 'Ecology_1', 'Ecology_2',\n",
      "       'Ecology_3', 'Social_1', 'Social_2', 'Social_3', 'Healthcare_1',\n",
      "       'Helthcare_2', 'Shops_1', 'Shops_2', 'Price'],\n",
      "      dtype='object')\n",
      "Index(['Id', 'DistrictId', 'Rooms', 'Square', 'LifeSquare', 'KitchenSquare',\n",
      "       'Floor', 'HouseFloor', 'HouseYear', 'Ecology_1', 'Ecology_2',\n",
      "       'Ecology_3', 'Social_1', 'Social_2', 'Social_3', 'Healthcare_1',\n",
      "       'Helthcare_2', 'Shops_1', 'Shops_2'],\n",
      "      dtype='object')\n"
     ]
    }
   ],
   "source": [
    "print(train_data.columns)\n",
    "print(test_data.columns)"
   ]
  },
  {
   "cell_type": "code",
   "execution_count": 12,
   "metadata": {},
   "outputs": [],
   "source": [
    "train_data = train_data.drop(columns=['Id'])\n",
    "train_data_light = train_data.drop(columns = ['Social_2'])\n",
    "train_data_hard = train_data.drop(columns = ['Social_2','Social_3','Square'])"
   ]
  },
  {
   "cell_type": "markdown",
   "metadata": {},
   "source": [
    "# 2. Обучение и проверка модели  <a class=\"anchor\" id=\"2-bullet\"></a>\n",
    "[Обратно в оглавление](#0-bullet)"
   ]
  },
  {
   "cell_type": "markdown",
   "metadata": {},
   "source": [
    "* Создадим дамми переменные для признаков Ecology_2, Ecology_3, Shops_2\n",
    "* Разделим данные на обучающие и тестовые для дальнейшего нормирования количественных данных\n",
    "* Сохраним нормированные данные в отдельных переменных, чтобы посмотреть, насколько нормирование улучшило модель\n",
    "* Так как у нас 3 набора данных, то сделаем функцию для разделения и нормирования"
   ]
  },
  {
   "cell_type": "code",
   "execution_count": 13,
   "metadata": {},
   "outputs": [],
   "source": [
    "def split (data):\n",
    "    #Зададим random state для всего проекта\n",
    "    random_state = 100500\n",
    "    #Выделим целевую переменную\n",
    "    x = data.drop('Price',axis=1)\n",
    "    y = data['Price']\n",
    "    #Создание дамми переменных\n",
    "    x = pd.get_dummies(x, drop_first= True)\n",
    "    #Разделение выборки\n",
    "    x_train,x_valid,y_train,y_valid=train_test_split(x,y,test_size=0.2)\n",
    "    return x_train,x_valid,y_train,y_valid"
   ]
  },
  {
   "cell_type": "markdown",
   "metadata": {},
   "source": [
    "Нормализуем только данные, которые входят в 3 набора данных: \n",
    "* количество комнат\n",
    "* жилая площадь\n",
    "* кухонная площадь\n",
    "* этаж\n",
    "* этажность дома\n",
    "* год постройки дома"
   ]
  },
  {
   "cell_type": "code",
   "execution_count": 14,
   "metadata": {},
   "outputs": [],
   "source": [
    "def normalized (x_train,x_test):\n",
    "    scaler = ColumnTransformer(transformers=[('scale',StandardScaler(),\n",
    "    ['Rooms', 'LifeSquare', 'KitchenSquare','Floor', 'HouseFloor', 'HouseYear'])],remainder = 'passthrough')\n",
    "    x_train_sc = scaler.fit_transform(x_train)\n",
    "    #Нормируем тестовую выборку для использования в модели при тестировании\n",
    "    x_test_sc = scaler.transform(x_test)\n",
    "    return x_train_sc,x_test_sc"
   ]
  },
  {
   "cell_type": "code",
   "execution_count": 15,
   "metadata": {},
   "outputs": [],
   "source": [
    "#Разделение\n",
    "x_train,x_valid,y_train,y_valid = split(train_data)\n",
    "x_train_l,x_valid_l,y_train_l,y_valid_l = split(train_data_light)\n",
    "x_train_h,x_valid_h,y_train_h,y_valid_h = split(train_data_hard)\n",
    "#Нормализация\n",
    "x_train, x_test = normalized(x_train,x_valid)\n",
    "x_train_l, x_test_l = normalized(x_train_l,x_valid_l)\n",
    "x_train_h, x_test_h = normalized(x_train_h,x_valid_h)"
   ]
  },
  {
   "cell_type": "code",
   "execution_count": 16,
   "metadata": {},
   "outputs": [],
   "source": [
    "def rsquared(y_pred,y_true):\n",
    "    labels = y_true.get_label()\n",
    "    sse = np.sum((labels-y_pred)**2)\n",
    "    sst = np.sum((labels-np.mean(labels))**2)\n",
    "    rsquared = 1 -sse/sst\n",
    "    return 'r2',-rsquared"
   ]
  },
  {
   "cell_type": "markdown",
   "metadata": {},
   "source": [
    "Есть три набора данных для обучения: \n",
    "1. Без удаления столбцов\n",
    "2. С удалением столбцов с 100% корреляцией\n",
    "3. С удалением столбцов с корреляцией больше 70%\n",
    "\n",
    "Модель показала наилучший результат на втором наборе данных. Используем его"
   ]
  },
  {
   "cell_type": "code",
   "execution_count": 17,
   "metadata": {},
   "outputs": [],
   "source": [
    "#Обозначим данные для XGBoost\n",
    "\n",
    "#init\n",
    "#x = train_data.drop('Price',axis=1)\n",
    "#y = train_data['Price']\n",
    "\n",
    "#light\n",
    "x = train_data_light.drop('Price',axis=1)\n",
    "y = train_data_light['Price']\n",
    "\n",
    "\n",
    "#hard\n",
    "#x = train_data_hard.drop('Price',axis=1)\n",
    "#y = train_data_hard['Price']\n"
   ]
  },
  {
   "cell_type": "code",
   "execution_count": 18,
   "metadata": {},
   "outputs": [],
   "source": [
    "x = pd.get_dummies(x, columns = ['DistrictId','Ecology_2','Ecology_3','Shops_2'], drop_first= True)\n",
    "x_learn,x_test, y_learn,  y_test = train_test_split(x,y, test_size=0.2,random_state=100500)\n",
    "x_train,x_valid,y_train,y_valid = train_test_split( x_learn, y_learn, test_size=0.25,random_state=100500)\n",
    "\n",
    "dtrain = xgb.DMatrix(x_train, label=y_train)\n",
    "dvalid = xgb.DMatrix(x_valid, label=y_valid)\n",
    "dtest = xgb.DMatrix(x_test, label=y_test)\n",
    "#Обозначим парметры для модели\n",
    "params_xgboost = {\n",
    "    'max_depth':9,\n",
    "    'min_child_weight': 5,\n",
    "    'eta':.2,\n",
    "    'subsample': 1,\n",
    "    'colsample_bytree': .7,\n",
    "    'objective':'reg:linear',\n",
    "    'disable_default_eval_metric':1\n",
    "}\n",
    "#params_xgboost['eval_metric'] = r_score(dvalid,y_valid)\n",
    "\n",
    "num_boost_round = 30"
   ]
  },
  {
   "cell_type": "code",
   "execution_count": 19,
   "metadata": {},
   "outputs": [
    {
     "name": "stdout",
     "output_type": "stream",
     "text": [
      "[22:42:39] WARNING: C:/Users/Administrator/workspace/xgboost-win64_release_1.4.0/src/objective/regression_obj.cu:171: reg:linear is now deprecated in favor of reg:squarederror.\n",
      "[0]\tTrain-r2:3.14619\n",
      "[1]\tTrain-r2:1.77894\n",
      "[2]\tTrain-r2:0.91423\n",
      "[3]\tTrain-r2:0.34268\n",
      "[4]\tTrain-r2:-0.02926\n",
      "[5]\tTrain-r2:-0.26900\n",
      "[6]\tTrain-r2:-0.42515\n",
      "[7]\tTrain-r2:-0.52552\n",
      "[8]\tTrain-r2:-0.59389\n",
      "[9]\tTrain-r2:-0.63931\n",
      "[10]\tTrain-r2:-0.67117\n",
      "[11]\tTrain-r2:-0.69404\n",
      "[12]\tTrain-r2:-0.70764\n",
      "[13]\tTrain-r2:-0.71482\n",
      "[14]\tTrain-r2:-0.72117\n",
      "[15]\tTrain-r2:-0.72683\n",
      "[16]\tTrain-r2:-0.72918\n",
      "[17]\tTrain-r2:-0.73158\n",
      "[18]\tTrain-r2:-0.73336\n",
      "[19]\tTrain-r2:-0.73516\n",
      "[20]\tTrain-r2:-0.73491\n",
      "[21]\tTrain-r2:-0.73580\n",
      "[22]\tTrain-r2:-0.73635\n",
      "[23]\tTrain-r2:-0.73697\n",
      "[24]\tTrain-r2:-0.73889\n",
      "[25]\tTrain-r2:-0.73983\n",
      "[26]\tTrain-r2:-0.74047\n",
      "[27]\tTrain-r2:-0.74020\n",
      "[28]\tTrain-r2:-0.74121\n",
      "[29]\tTrain-r2:-0.74136\n"
     ]
    }
   ],
   "source": [
    "warnings.filterwarnings('ignore')\n",
    "#Обучим модель XGBoost\n",
    "model = xgb.train(\n",
    "    params_xgboost,\n",
    "    dtrain,\n",
    "    num_boost_round=num_boost_round,\n",
    "    feval = rsquared,\n",
    "    evals=[(dvalid, \"Train\")],\n",
    "    early_stopping_rounds=10\n",
    ")"
   ]
  },
  {
   "cell_type": "code",
   "execution_count": 20,
   "metadata": {},
   "outputs": [
    {
     "name": "stdout",
     "output_type": "stream",
     "text": [
      "R2 XGBoost =  0.604\n"
     ]
    }
   ],
   "source": [
    "print('R2 XGBoost = ',round(r2_score(model.predict(dtest), y_test),3))"
   ]
  },
  {
   "cell_type": "markdown",
   "metadata": {},
   "source": [
    "Подбор параметров для XGBoost"
   ]
  },
  {
   "cell_type": "code",
   "execution_count": 21,
   "metadata": {},
   "outputs": [],
   "source": [
    "params = {\n",
    "    'max_depth':9,\n",
    "    'min_child_weight': 5,\n",
    "    'eta':.2,\n",
    "    'subsample': 1,\n",
    "    'colsample_bytree': .7,\n",
    "    'objective':'reg:linear',\n",
    "    'disable_default_eval_metric':1\n",
    "    }\n",
    "\n",
    "num_boost_round = 30"
   ]
  },
  {
   "cell_type": "code",
   "execution_count": 22,
   "metadata": {},
   "outputs": [
    {
     "name": "stdout",
     "output_type": "stream",
     "text": [
      "[22:42:42] WARNING: C:/Users/Administrator/workspace/xgboost-win64_release_1.4.0/src/objective/regression_obj.cu:171: reg:linear is now deprecated in favor of reg:squarederror.\n",
      "[22:42:42] WARNING: C:/Users/Administrator/workspace/xgboost-win64_release_1.4.0/src/objective/regression_obj.cu:171: reg:linear is now deprecated in favor of reg:squarederror.\n",
      "[22:42:42] WARNING: C:/Users/Administrator/workspace/xgboost-win64_release_1.4.0/src/objective/regression_obj.cu:171: reg:linear is now deprecated in favor of reg:squarederror.\n",
      "[22:42:42] WARNING: C:/Users/Administrator/workspace/xgboost-win64_release_1.4.0/src/objective/regression_obj.cu:171: reg:linear is now deprecated in favor of reg:squarederror.\n",
      "[22:42:42] WARNING: C:/Users/Administrator/workspace/xgboost-win64_release_1.4.0/src/objective/regression_obj.cu:171: reg:linear is now deprecated in favor of reg:squarederror.\n",
      "[22:42:48] WARNING: C:/Users/Administrator/workspace/xgboost-win64_release_1.4.0/src/objective/regression_obj.cu:171: reg:linear is now deprecated in favor of reg:squarederror.\n",
      "[22:42:48] WARNING: C:/Users/Administrator/workspace/xgboost-win64_release_1.4.0/src/objective/regression_obj.cu:171: reg:linear is now deprecated in favor of reg:squarederror.\n",
      "[22:42:48] WARNING: C:/Users/Administrator/workspace/xgboost-win64_release_1.4.0/src/objective/regression_obj.cu:171: reg:linear is now deprecated in favor of reg:squarederror.\n",
      "[22:42:48] WARNING: C:/Users/Administrator/workspace/xgboost-win64_release_1.4.0/src/objective/regression_obj.cu:171: reg:linear is now deprecated in favor of reg:squarederror.\n",
      "[22:42:48] WARNING: C:/Users/Administrator/workspace/xgboost-win64_release_1.4.0/src/objective/regression_obj.cu:171: reg:linear is now deprecated in favor of reg:squarederror.\n",
      "[22:42:53] WARNING: C:/Users/Administrator/workspace/xgboost-win64_release_1.4.0/src/objective/regression_obj.cu:171: reg:linear is now deprecated in favor of reg:squarederror.\n",
      "[22:42:53] WARNING: C:/Users/Administrator/workspace/xgboost-win64_release_1.4.0/src/objective/regression_obj.cu:171: reg:linear is now deprecated in favor of reg:squarederror.\n",
      "[22:42:53] WARNING: C:/Users/Administrator/workspace/xgboost-win64_release_1.4.0/src/objective/regression_obj.cu:171: reg:linear is now deprecated in favor of reg:squarederror.\n",
      "[22:42:53] WARNING: C:/Users/Administrator/workspace/xgboost-win64_release_1.4.0/src/objective/regression_obj.cu:171: reg:linear is now deprecated in favor of reg:squarederror.\n",
      "[22:42:53] WARNING: C:/Users/Administrator/workspace/xgboost-win64_release_1.4.0/src/objective/regression_obj.cu:171: reg:linear is now deprecated in favor of reg:squarederror.\n",
      "[22:42:58] WARNING: C:/Users/Administrator/workspace/xgboost-win64_release_1.4.0/src/objective/regression_obj.cu:171: reg:linear is now deprecated in favor of reg:squarederror.\n",
      "[22:42:58] WARNING: C:/Users/Administrator/workspace/xgboost-win64_release_1.4.0/src/objective/regression_obj.cu:171: reg:linear is now deprecated in favor of reg:squarederror.\n",
      "[22:42:58] WARNING: C:/Users/Administrator/workspace/xgboost-win64_release_1.4.0/src/objective/regression_obj.cu:171: reg:linear is now deprecated in favor of reg:squarederror.\n",
      "[22:42:58] WARNING: C:/Users/Administrator/workspace/xgboost-win64_release_1.4.0/src/objective/regression_obj.cu:171: reg:linear is now deprecated in favor of reg:squarederror.\n",
      "[22:42:58] WARNING: C:/Users/Administrator/workspace/xgboost-win64_release_1.4.0/src/objective/regression_obj.cu:171: reg:linear is now deprecated in favor of reg:squarederror.\n",
      "[22:43:03] WARNING: C:/Users/Administrator/workspace/xgboost-win64_release_1.4.0/src/objective/regression_obj.cu:171: reg:linear is now deprecated in favor of reg:squarederror.\n",
      "[22:43:03] WARNING: C:/Users/Administrator/workspace/xgboost-win64_release_1.4.0/src/objective/regression_obj.cu:171: reg:linear is now deprecated in favor of reg:squarederror.\n",
      "[22:43:03] WARNING: C:/Users/Administrator/workspace/xgboost-win64_release_1.4.0/src/objective/regression_obj.cu:171: reg:linear is now deprecated in favor of reg:squarederror.\n",
      "[22:43:03] WARNING: C:/Users/Administrator/workspace/xgboost-win64_release_1.4.0/src/objective/regression_obj.cu:171: reg:linear is now deprecated in favor of reg:squarederror.\n",
      "[22:43:03] WARNING: C:/Users/Administrator/workspace/xgboost-win64_release_1.4.0/src/objective/regression_obj.cu:171: reg:linear is now deprecated in favor of reg:squarederror.\n",
      "[22:43:08] WARNING: C:/Users/Administrator/workspace/xgboost-win64_release_1.4.0/src/objective/regression_obj.cu:171: reg:linear is now deprecated in favor of reg:squarederror.\n",
      "[22:43:08] WARNING: C:/Users/Administrator/workspace/xgboost-win64_release_1.4.0/src/objective/regression_obj.cu:171: reg:linear is now deprecated in favor of reg:squarederror.\n",
      "[22:43:08] WARNING: C:/Users/Administrator/workspace/xgboost-win64_release_1.4.0/src/objective/regression_obj.cu:171: reg:linear is now deprecated in favor of reg:squarederror.\n",
      "[22:43:08] WARNING: C:/Users/Administrator/workspace/xgboost-win64_release_1.4.0/src/objective/regression_obj.cu:171: reg:linear is now deprecated in favor of reg:squarederror.\n",
      "[22:43:08] WARNING: C:/Users/Administrator/workspace/xgboost-win64_release_1.4.0/src/objective/regression_obj.cu:171: reg:linear is now deprecated in favor of reg:squarederror.\n",
      "[22:43:14] WARNING: C:/Users/Administrator/workspace/xgboost-win64_release_1.4.0/src/objective/regression_obj.cu:171: reg:linear is now deprecated in favor of reg:squarederror.\n",
      "[22:43:14] WARNING: C:/Users/Administrator/workspace/xgboost-win64_release_1.4.0/src/objective/regression_obj.cu:171: reg:linear is now deprecated in favor of reg:squarederror.\n",
      "[22:43:14] WARNING: C:/Users/Administrator/workspace/xgboost-win64_release_1.4.0/src/objective/regression_obj.cu:171: reg:linear is now deprecated in favor of reg:squarederror.\n",
      "[22:43:14] WARNING: C:/Users/Administrator/workspace/xgboost-win64_release_1.4.0/src/objective/regression_obj.cu:171: reg:linear is now deprecated in favor of reg:squarederror.\n",
      "[22:43:14] WARNING: C:/Users/Administrator/workspace/xgboost-win64_release_1.4.0/src/objective/regression_obj.cu:171: reg:linear is now deprecated in favor of reg:squarederror.\n",
      "[22:43:20] WARNING: C:/Users/Administrator/workspace/xgboost-win64_release_1.4.0/src/objective/regression_obj.cu:171: reg:linear is now deprecated in favor of reg:squarederror.\n",
      "[22:43:20] WARNING: C:/Users/Administrator/workspace/xgboost-win64_release_1.4.0/src/objective/regression_obj.cu:171: reg:linear is now deprecated in favor of reg:squarederror.\n",
      "[22:43:20] WARNING: C:/Users/Administrator/workspace/xgboost-win64_release_1.4.0/src/objective/regression_obj.cu:171: reg:linear is now deprecated in favor of reg:squarederror.\n",
      "[22:43:20] WARNING: C:/Users/Administrator/workspace/xgboost-win64_release_1.4.0/src/objective/regression_obj.cu:171: reg:linear is now deprecated in favor of reg:squarederror.\n",
      "[22:43:20] WARNING: C:/Users/Administrator/workspace/xgboost-win64_release_1.4.0/src/objective/regression_obj.cu:171: reg:linear is now deprecated in favor of reg:squarederror.\n",
      "[22:43:27] WARNING: C:/Users/Administrator/workspace/xgboost-win64_release_1.4.0/src/objective/regression_obj.cu:171: reg:linear is now deprecated in favor of reg:squarederror.\n",
      "[22:43:27] WARNING: C:/Users/Administrator/workspace/xgboost-win64_release_1.4.0/src/objective/regression_obj.cu:171: reg:linear is now deprecated in favor of reg:squarederror.\n",
      "[22:43:27] WARNING: C:/Users/Administrator/workspace/xgboost-win64_release_1.4.0/src/objective/regression_obj.cu:171: reg:linear is now deprecated in favor of reg:squarederror.\n",
      "[22:43:27] WARNING: C:/Users/Administrator/workspace/xgboost-win64_release_1.4.0/src/objective/regression_obj.cu:171: reg:linear is now deprecated in favor of reg:squarederror.\n",
      "[22:43:27] WARNING: C:/Users/Administrator/workspace/xgboost-win64_release_1.4.0/src/objective/regression_obj.cu:171: reg:linear is now deprecated in favor of reg:squarederror.\n",
      "Best params: 9, 6, R2: -0.7291130000000001\n"
     ]
    }
   ],
   "source": [
    "warnings.filterwarnings('ignore')\n",
    "gridsearch_params = [\n",
    "    (max_depth, min_child_weight)\n",
    "    for max_depth in range(9,12)\n",
    "    for min_child_weight in range(5,8)\n",
    "]\n",
    "min_r2 = float(\"Inf\")\n",
    "best_params = None\n",
    "for max_depth, min_child_weight in gridsearch_params:\n",
    "    #print(\"CV with max_depth={}, min_child_weight={}\".format(\n",
    "     #                        max_depth,\n",
    "      #                       min_child_weight))\n",
    "\n",
    "    params['max_depth'] = max_depth\n",
    "    params['min_child_weight'] = min_child_weight\n",
    "    cv_results = xgb.cv(\n",
    "        params,\n",
    "        dtrain,\n",
    "        num_boost_round=num_boost_round,\n",
    "        seed=42,\n",
    "        nfold=5,\n",
    "        #metrics={'rmse'},\n",
    "       feval = rsquared,\n",
    "        early_stopping_rounds=10\n",
    "    )\n",
    "    mean_r2 = cv_results['test-r2-mean'].min()\n",
    "    boost_rounds = cv_results['test-r2-mean'].argmin()\n",
    "    #print(\"\\R2 {} for {} rounds\".format(mean_r2, boost_rounds))\n",
    "    if mean_r2 < min_r2:\n",
    "        min_r2 = mean_r2\n",
    "        best_params = (max_depth,min_child_weight)\n",
    "print(\"Best params: {}, {}, R2: {}\".format(best_params[0], best_params[1], min_r2))\n",
    "    "
   ]
  },
  {
   "cell_type": "code",
   "execution_count": 23,
   "metadata": {},
   "outputs": [],
   "source": [
    "params['max_depth'] = 9\n",
    "params['min_child_weight'] = 5"
   ]
  },
  {
   "cell_type": "code",
   "execution_count": 24,
   "metadata": {},
   "outputs": [
    {
     "name": "stdout",
     "output_type": "stream",
     "text": [
      "[22:43:33] WARNING: C:/Users/Administrator/workspace/xgboost-win64_release_1.4.0/src/objective/regression_obj.cu:171: reg:linear is now deprecated in favor of reg:squarederror.\n",
      "[22:43:33] WARNING: C:/Users/Administrator/workspace/xgboost-win64_release_1.4.0/src/objective/regression_obj.cu:171: reg:linear is now deprecated in favor of reg:squarederror.\n",
      "[22:43:33] WARNING: C:/Users/Administrator/workspace/xgboost-win64_release_1.4.0/src/objective/regression_obj.cu:171: reg:linear is now deprecated in favor of reg:squarederror.\n",
      "[22:43:33] WARNING: C:/Users/Administrator/workspace/xgboost-win64_release_1.4.0/src/objective/regression_obj.cu:171: reg:linear is now deprecated in favor of reg:squarederror.\n",
      "[22:43:33] WARNING: C:/Users/Administrator/workspace/xgboost-win64_release_1.4.0/src/objective/regression_obj.cu:171: reg:linear is now deprecated in favor of reg:squarederror.\n",
      "[22:43:39] WARNING: C:/Users/Administrator/workspace/xgboost-win64_release_1.4.0/src/objective/regression_obj.cu:171: reg:linear is now deprecated in favor of reg:squarederror.\n",
      "[22:43:39] WARNING: C:/Users/Administrator/workspace/xgboost-win64_release_1.4.0/src/objective/regression_obj.cu:171: reg:linear is now deprecated in favor of reg:squarederror.\n",
      "[22:43:39] WARNING: C:/Users/Administrator/workspace/xgboost-win64_release_1.4.0/src/objective/regression_obj.cu:171: reg:linear is now deprecated in favor of reg:squarederror.\n",
      "[22:43:39] WARNING: C:/Users/Administrator/workspace/xgboost-win64_release_1.4.0/src/objective/regression_obj.cu:171: reg:linear is now deprecated in favor of reg:squarederror.\n",
      "[22:43:39] WARNING: C:/Users/Administrator/workspace/xgboost-win64_release_1.4.0/src/objective/regression_obj.cu:171: reg:linear is now deprecated in favor of reg:squarederror.\n",
      "[22:43:45] WARNING: C:/Users/Administrator/workspace/xgboost-win64_release_1.4.0/src/objective/regression_obj.cu:171: reg:linear is now deprecated in favor of reg:squarederror.\n",
      "[22:43:45] WARNING: C:/Users/Administrator/workspace/xgboost-win64_release_1.4.0/src/objective/regression_obj.cu:171: reg:linear is now deprecated in favor of reg:squarederror.\n",
      "[22:43:45] WARNING: C:/Users/Administrator/workspace/xgboost-win64_release_1.4.0/src/objective/regression_obj.cu:171: reg:linear is now deprecated in favor of reg:squarederror.\n",
      "[22:43:45] WARNING: C:/Users/Administrator/workspace/xgboost-win64_release_1.4.0/src/objective/regression_obj.cu:171: reg:linear is now deprecated in favor of reg:squarederror.\n",
      "[22:43:45] WARNING: C:/Users/Administrator/workspace/xgboost-win64_release_1.4.0/src/objective/regression_obj.cu:171: reg:linear is now deprecated in favor of reg:squarederror.\n",
      "[22:43:50] WARNING: C:/Users/Administrator/workspace/xgboost-win64_release_1.4.0/src/objective/regression_obj.cu:171: reg:linear is now deprecated in favor of reg:squarederror.\n",
      "[22:43:50] WARNING: C:/Users/Administrator/workspace/xgboost-win64_release_1.4.0/src/objective/regression_obj.cu:171: reg:linear is now deprecated in favor of reg:squarederror.\n",
      "[22:43:50] WARNING: C:/Users/Administrator/workspace/xgboost-win64_release_1.4.0/src/objective/regression_obj.cu:171: reg:linear is now deprecated in favor of reg:squarederror.\n",
      "[22:43:50] WARNING: C:/Users/Administrator/workspace/xgboost-win64_release_1.4.0/src/objective/regression_obj.cu:171: reg:linear is now deprecated in favor of reg:squarederror.\n",
      "[22:43:50] WARNING: C:/Users/Administrator/workspace/xgboost-win64_release_1.4.0/src/objective/regression_obj.cu:171: reg:linear is now deprecated in favor of reg:squarederror.\n",
      "[22:43:54] WARNING: C:/Users/Administrator/workspace/xgboost-win64_release_1.4.0/src/objective/regression_obj.cu:171: reg:linear is now deprecated in favor of reg:squarederror.\n",
      "[22:43:55] WARNING: C:/Users/Administrator/workspace/xgboost-win64_release_1.4.0/src/objective/regression_obj.cu:171: reg:linear is now deprecated in favor of reg:squarederror.\n",
      "[22:43:55] WARNING: C:/Users/Administrator/workspace/xgboost-win64_release_1.4.0/src/objective/regression_obj.cu:171: reg:linear is now deprecated in favor of reg:squarederror.\n",
      "[22:43:55] WARNING: C:/Users/Administrator/workspace/xgboost-win64_release_1.4.0/src/objective/regression_obj.cu:171: reg:linear is now deprecated in favor of reg:squarederror.\n",
      "[22:43:55] WARNING: C:/Users/Administrator/workspace/xgboost-win64_release_1.4.0/src/objective/regression_obj.cu:171: reg:linear is now deprecated in favor of reg:squarederror.\n",
      "[22:44:01] WARNING: C:/Users/Administrator/workspace/xgboost-win64_release_1.4.0/src/objective/regression_obj.cu:171: reg:linear is now deprecated in favor of reg:squarederror.\n",
      "[22:44:01] WARNING: C:/Users/Administrator/workspace/xgboost-win64_release_1.4.0/src/objective/regression_obj.cu:171: reg:linear is now deprecated in favor of reg:squarederror.\n",
      "[22:44:01] WARNING: C:/Users/Administrator/workspace/xgboost-win64_release_1.4.0/src/objective/regression_obj.cu:171: reg:linear is now deprecated in favor of reg:squarederror.\n",
      "[22:44:01] WARNING: C:/Users/Administrator/workspace/xgboost-win64_release_1.4.0/src/objective/regression_obj.cu:171: reg:linear is now deprecated in favor of reg:squarederror.\n",
      "[22:44:01] WARNING: C:/Users/Administrator/workspace/xgboost-win64_release_1.4.0/src/objective/regression_obj.cu:171: reg:linear is now deprecated in favor of reg:squarederror.\n",
      "[22:44:06] WARNING: C:/Users/Administrator/workspace/xgboost-win64_release_1.4.0/src/objective/regression_obj.cu:171: reg:linear is now deprecated in favor of reg:squarederror.\n",
      "[22:44:06] WARNING: C:/Users/Administrator/workspace/xgboost-win64_release_1.4.0/src/objective/regression_obj.cu:171: reg:linear is now deprecated in favor of reg:squarederror.\n",
      "[22:44:06] WARNING: C:/Users/Administrator/workspace/xgboost-win64_release_1.4.0/src/objective/regression_obj.cu:171: reg:linear is now deprecated in favor of reg:squarederror.\n",
      "[22:44:06] WARNING: C:/Users/Administrator/workspace/xgboost-win64_release_1.4.0/src/objective/regression_obj.cu:171: reg:linear is now deprecated in favor of reg:squarederror.\n",
      "[22:44:07] WARNING: C:/Users/Administrator/workspace/xgboost-win64_release_1.4.0/src/objective/regression_obj.cu:171: reg:linear is now deprecated in favor of reg:squarederror.\n",
      "[22:44:12] WARNING: C:/Users/Administrator/workspace/xgboost-win64_release_1.4.0/src/objective/regression_obj.cu:171: reg:linear is now deprecated in favor of reg:squarederror.\n",
      "[22:44:12] WARNING: C:/Users/Administrator/workspace/xgboost-win64_release_1.4.0/src/objective/regression_obj.cu:171: reg:linear is now deprecated in favor of reg:squarederror.\n",
      "[22:44:12] WARNING: C:/Users/Administrator/workspace/xgboost-win64_release_1.4.0/src/objective/regression_obj.cu:171: reg:linear is now deprecated in favor of reg:squarederror.\n",
      "[22:44:12] WARNING: C:/Users/Administrator/workspace/xgboost-win64_release_1.4.0/src/objective/regression_obj.cu:171: reg:linear is now deprecated in favor of reg:squarederror.\n",
      "[22:44:12] WARNING: C:/Users/Administrator/workspace/xgboost-win64_release_1.4.0/src/objective/regression_obj.cu:171: reg:linear is now deprecated in favor of reg:squarederror.\n",
      "[22:44:17] WARNING: C:/Users/Administrator/workspace/xgboost-win64_release_1.4.0/src/objective/regression_obj.cu:171: reg:linear is now deprecated in favor of reg:squarederror.\n",
      "[22:44:17] WARNING: C:/Users/Administrator/workspace/xgboost-win64_release_1.4.0/src/objective/regression_obj.cu:171: reg:linear is now deprecated in favor of reg:squarederror.\n",
      "[22:44:17] WARNING: C:/Users/Administrator/workspace/xgboost-win64_release_1.4.0/src/objective/regression_obj.cu:171: reg:linear is now deprecated in favor of reg:squarederror.\n",
      "[22:44:17] WARNING: C:/Users/Administrator/workspace/xgboost-win64_release_1.4.0/src/objective/regression_obj.cu:171: reg:linear is now deprecated in favor of reg:squarederror.\n",
      "[22:44:17] WARNING: C:/Users/Administrator/workspace/xgboost-win64_release_1.4.0/src/objective/regression_obj.cu:171: reg:linear is now deprecated in favor of reg:squarederror.\n",
      "[22:44:23] WARNING: C:/Users/Administrator/workspace/xgboost-win64_release_1.4.0/src/objective/regression_obj.cu:171: reg:linear is now deprecated in favor of reg:squarederror.\n",
      "[22:44:23] WARNING: C:/Users/Administrator/workspace/xgboost-win64_release_1.4.0/src/objective/regression_obj.cu:171: reg:linear is now deprecated in favor of reg:squarederror.\n",
      "[22:44:23] WARNING: C:/Users/Administrator/workspace/xgboost-win64_release_1.4.0/src/objective/regression_obj.cu:171: reg:linear is now deprecated in favor of reg:squarederror.\n",
      "[22:44:23] WARNING: C:/Users/Administrator/workspace/xgboost-win64_release_1.4.0/src/objective/regression_obj.cu:171: reg:linear is now deprecated in favor of reg:squarederror.\n",
      "[22:44:23] WARNING: C:/Users/Administrator/workspace/xgboost-win64_release_1.4.0/src/objective/regression_obj.cu:171: reg:linear is now deprecated in favor of reg:squarederror.\n",
      "[22:44:29] WARNING: C:/Users/Administrator/workspace/xgboost-win64_release_1.4.0/src/objective/regression_obj.cu:171: reg:linear is now deprecated in favor of reg:squarederror.\n",
      "[22:44:29] WARNING: C:/Users/Administrator/workspace/xgboost-win64_release_1.4.0/src/objective/regression_obj.cu:171: reg:linear is now deprecated in favor of reg:squarederror.\n",
      "[22:44:29] WARNING: C:/Users/Administrator/workspace/xgboost-win64_release_1.4.0/src/objective/regression_obj.cu:171: reg:linear is now deprecated in favor of reg:squarederror.\n",
      "[22:44:29] WARNING: C:/Users/Administrator/workspace/xgboost-win64_release_1.4.0/src/objective/regression_obj.cu:171: reg:linear is now deprecated in favor of reg:squarederror.\n",
      "[22:44:29] WARNING: C:/Users/Administrator/workspace/xgboost-win64_release_1.4.0/src/objective/regression_obj.cu:171: reg:linear is now deprecated in favor of reg:squarederror.\n",
      "[22:44:34] WARNING: C:/Users/Administrator/workspace/xgboost-win64_release_1.4.0/src/objective/regression_obj.cu:171: reg:linear is now deprecated in favor of reg:squarederror.\n",
      "[22:44:35] WARNING: C:/Users/Administrator/workspace/xgboost-win64_release_1.4.0/src/objective/regression_obj.cu:171: reg:linear is now deprecated in favor of reg:squarederror.\n",
      "[22:44:35] WARNING: C:/Users/Administrator/workspace/xgboost-win64_release_1.4.0/src/objective/regression_obj.cu:171: reg:linear is now deprecated in favor of reg:squarederror.\n",
      "[22:44:35] WARNING: C:/Users/Administrator/workspace/xgboost-win64_release_1.4.0/src/objective/regression_obj.cu:171: reg:linear is now deprecated in favor of reg:squarederror.\n",
      "[22:44:35] WARNING: C:/Users/Administrator/workspace/xgboost-win64_release_1.4.0/src/objective/regression_obj.cu:171: reg:linear is now deprecated in favor of reg:squarederror.\n",
      "[22:44:40] WARNING: C:/Users/Administrator/workspace/xgboost-win64_release_1.4.0/src/objective/regression_obj.cu:171: reg:linear is now deprecated in favor of reg:squarederror.\n",
      "[22:44:40] WARNING: C:/Users/Administrator/workspace/xgboost-win64_release_1.4.0/src/objective/regression_obj.cu:171: reg:linear is now deprecated in favor of reg:squarederror.\n",
      "[22:44:40] WARNING: C:/Users/Administrator/workspace/xgboost-win64_release_1.4.0/src/objective/regression_obj.cu:171: reg:linear is now deprecated in favor of reg:squarederror.\n",
      "[22:44:40] WARNING: C:/Users/Administrator/workspace/xgboost-win64_release_1.4.0/src/objective/regression_obj.cu:171: reg:linear is now deprecated in favor of reg:squarederror.\n",
      "[22:44:40] WARNING: C:/Users/Administrator/workspace/xgboost-win64_release_1.4.0/src/objective/regression_obj.cu:171: reg:linear is now deprecated in favor of reg:squarederror.\n",
      "[22:44:47] WARNING: C:/Users/Administrator/workspace/xgboost-win64_release_1.4.0/src/objective/regression_obj.cu:171: reg:linear is now deprecated in favor of reg:squarederror.\n",
      "[22:44:47] WARNING: C:/Users/Administrator/workspace/xgboost-win64_release_1.4.0/src/objective/regression_obj.cu:171: reg:linear is now deprecated in favor of reg:squarederror.\n",
      "[22:44:48] WARNING: C:/Users/Administrator/workspace/xgboost-win64_release_1.4.0/src/objective/regression_obj.cu:171: reg:linear is now deprecated in favor of reg:squarederror.\n",
      "[22:44:48] WARNING: C:/Users/Administrator/workspace/xgboost-win64_release_1.4.0/src/objective/regression_obj.cu:171: reg:linear is now deprecated in favor of reg:squarederror.\n",
      "[22:44:48] WARNING: C:/Users/Administrator/workspace/xgboost-win64_release_1.4.0/src/objective/regression_obj.cu:171: reg:linear is now deprecated in favor of reg:squarederror.\n",
      "[22:44:54] WARNING: C:/Users/Administrator/workspace/xgboost-win64_release_1.4.0/src/objective/regression_obj.cu:171: reg:linear is now deprecated in favor of reg:squarederror.\n",
      "[22:44:54] WARNING: C:/Users/Administrator/workspace/xgboost-win64_release_1.4.0/src/objective/regression_obj.cu:171: reg:linear is now deprecated in favor of reg:squarederror.\n",
      "[22:44:54] WARNING: C:/Users/Administrator/workspace/xgboost-win64_release_1.4.0/src/objective/regression_obj.cu:171: reg:linear is now deprecated in favor of reg:squarederror.\n",
      "[22:44:54] WARNING: C:/Users/Administrator/workspace/xgboost-win64_release_1.4.0/src/objective/regression_obj.cu:171: reg:linear is now deprecated in favor of reg:squarederror.\n",
      "[22:44:54] WARNING: C:/Users/Administrator/workspace/xgboost-win64_release_1.4.0/src/objective/regression_obj.cu:171: reg:linear is now deprecated in favor of reg:squarederror.\n",
      "[22:44:59] WARNING: C:/Users/Administrator/workspace/xgboost-win64_release_1.4.0/src/objective/regression_obj.cu:171: reg:linear is now deprecated in favor of reg:squarederror.\n",
      "[22:44:59] WARNING: C:/Users/Administrator/workspace/xgboost-win64_release_1.4.0/src/objective/regression_obj.cu:171: reg:linear is now deprecated in favor of reg:squarederror.\n",
      "[22:44:59] WARNING: C:/Users/Administrator/workspace/xgboost-win64_release_1.4.0/src/objective/regression_obj.cu:171: reg:linear is now deprecated in favor of reg:squarederror.\n",
      "[22:44:59] WARNING: C:/Users/Administrator/workspace/xgboost-win64_release_1.4.0/src/objective/regression_obj.cu:171: reg:linear is now deprecated in favor of reg:squarederror.\n",
      "[22:44:59] WARNING: C:/Users/Administrator/workspace/xgboost-win64_release_1.4.0/src/objective/regression_obj.cu:171: reg:linear is now deprecated in favor of reg:squarederror.\n",
      "Best params: 1.0, 0.7, R2: -0.7280289999999999\n"
     ]
    }
   ],
   "source": [
    "warnings.filterwarnings('ignore')\n",
    "gridsearch_params = [\n",
    "    (subsample, colsample_bytree)\n",
    "    for subsample in [i/10. for i in range(7,11)]\n",
    "    for colsample_bytree in [i/10. for i in range(7,11)]\n",
    "]\n",
    "min_r2 = float(\"Inf\")\n",
    "best_params = None\n",
    "for subsample, colsample_bytree in reversed(gridsearch_params):\n",
    "    #print(\"CV with subsample={}, colsample={}\".format(\n",
    "                          #   subsample,\n",
    "                           #  colsample_bytree))\n",
    "    params['subsample'] = subsample\n",
    "    params['colsample_bytree'] = colsample_bytree\n",
    "    cv_results = xgb.cv(\n",
    "        params,\n",
    "        dtrain,\n",
    "        num_boost_round=num_boost_round,\n",
    "        seed=42,\n",
    "        nfold=5,\n",
    "        feval=rsquared,\n",
    "        early_stopping_rounds=10\n",
    "    )\n",
    "    mean_r2 = cv_results['test-r2-mean'].min()\n",
    "    boost_rounds = cv_results['test-r2-mean'].argmin()\n",
    "    #print(\"\\tRMSE {} for {} rounds\".format(mean_mae, boost_rounds))\n",
    "    if mean_r2 < min_r2:\n",
    "        min_r2 = mean_r2\n",
    "        best_params = (subsample,colsample_bytree)\n",
    "print(\"Best params: {}, {}, R2: {}\".format(best_params[0], best_params[1], min_r2))\n",
    "\n"
   ]
  },
  {
   "cell_type": "code",
   "execution_count": 25,
   "metadata": {},
   "outputs": [],
   "source": [
    "params['subsample'] = 1\n",
    "params['colsample_bytree'] = 0.7"
   ]
  },
  {
   "cell_type": "code",
   "execution_count": 26,
   "metadata": {},
   "outputs": [
    {
     "name": "stdout",
     "output_type": "stream",
     "text": [
      "Wall time: 0 ns\n",
      "[22:45:05] WARNING: C:/Users/Administrator/workspace/xgboost-win64_release_1.4.0/src/objective/regression_obj.cu:171: reg:linear is now deprecated in favor of reg:squarederror.\n",
      "[22:45:05] WARNING: C:/Users/Administrator/workspace/xgboost-win64_release_1.4.0/src/objective/regression_obj.cu:171: reg:linear is now deprecated in favor of reg:squarederror.\n",
      "[22:45:05] WARNING: C:/Users/Administrator/workspace/xgboost-win64_release_1.4.0/src/objective/regression_obj.cu:171: reg:linear is now deprecated in favor of reg:squarederror.\n",
      "[22:45:06] WARNING: C:/Users/Administrator/workspace/xgboost-win64_release_1.4.0/src/objective/regression_obj.cu:171: reg:linear is now deprecated in favor of reg:squarederror.\n",
      "[22:45:06] WARNING: C:/Users/Administrator/workspace/xgboost-win64_release_1.4.0/src/objective/regression_obj.cu:171: reg:linear is now deprecated in favor of reg:squarederror.\n",
      "Wall time: 5.31 s\n",
      "\tR2 -0.7235488 for 25 rounds\n",
      "\n",
      "[22:45:11] WARNING: C:/Users/Administrator/workspace/xgboost-win64_release_1.4.0/src/objective/regression_obj.cu:171: reg:linear is now deprecated in favor of reg:squarederror.\n",
      "[22:45:11] WARNING: C:/Users/Administrator/workspace/xgboost-win64_release_1.4.0/src/objective/regression_obj.cu:171: reg:linear is now deprecated in favor of reg:squarederror.\n",
      "[22:45:11] WARNING: C:/Users/Administrator/workspace/xgboost-win64_release_1.4.0/src/objective/regression_obj.cu:171: reg:linear is now deprecated in favor of reg:squarederror.\n",
      "[22:45:11] WARNING: C:/Users/Administrator/workspace/xgboost-win64_release_1.4.0/src/objective/regression_obj.cu:171: reg:linear is now deprecated in favor of reg:squarederror.\n",
      "[22:45:11] WARNING: C:/Users/Administrator/workspace/xgboost-win64_release_1.4.0/src/objective/regression_obj.cu:171: reg:linear is now deprecated in favor of reg:squarederror.\n",
      "Wall time: 5.22 s\n",
      "\tR2 -0.7280289999999999 for 29 rounds\n",
      "\n",
      "[22:45:16] WARNING: C:/Users/Administrator/workspace/xgboost-win64_release_1.4.0/src/objective/regression_obj.cu:171: reg:linear is now deprecated in favor of reg:squarederror.\n",
      "[22:45:16] WARNING: C:/Users/Administrator/workspace/xgboost-win64_release_1.4.0/src/objective/regression_obj.cu:171: reg:linear is now deprecated in favor of reg:squarederror.\n",
      "[22:45:16] WARNING: C:/Users/Administrator/workspace/xgboost-win64_release_1.4.0/src/objective/regression_obj.cu:171: reg:linear is now deprecated in favor of reg:squarederror.\n",
      "[22:45:16] WARNING: C:/Users/Administrator/workspace/xgboost-win64_release_1.4.0/src/objective/regression_obj.cu:171: reg:linear is now deprecated in favor of reg:squarederror.\n",
      "[22:45:16] WARNING: C:/Users/Administrator/workspace/xgboost-win64_release_1.4.0/src/objective/regression_obj.cu:171: reg:linear is now deprecated in favor of reg:squarederror.\n",
      "Wall time: 5.74 s\n",
      "\tR2 -0.7078659999999999 for 29 rounds\n",
      "\n",
      "[22:45:22] WARNING: C:/Users/Administrator/workspace/xgboost-win64_release_1.4.0/src/objective/regression_obj.cu:171: reg:linear is now deprecated in favor of reg:squarederror.\n",
      "[22:45:22] WARNING: C:/Users/Administrator/workspace/xgboost-win64_release_1.4.0/src/objective/regression_obj.cu:171: reg:linear is now deprecated in favor of reg:squarederror.\n",
      "[22:45:22] WARNING: C:/Users/Administrator/workspace/xgboost-win64_release_1.4.0/src/objective/regression_obj.cu:171: reg:linear is now deprecated in favor of reg:squarederror.\n",
      "[22:45:22] WARNING: C:/Users/Administrator/workspace/xgboost-win64_release_1.4.0/src/objective/regression_obj.cu:171: reg:linear is now deprecated in favor of reg:squarederror.\n",
      "[22:45:22] WARNING: C:/Users/Administrator/workspace/xgboost-win64_release_1.4.0/src/objective/regression_obj.cu:171: reg:linear is now deprecated in favor of reg:squarederror.\n",
      "Wall time: 6.88 s\n",
      "\tR2 -0.40336419999999995 for 29 rounds\n",
      "\n",
      "[22:45:29] WARNING: C:/Users/Administrator/workspace/xgboost-win64_release_1.4.0/src/objective/regression_obj.cu:171: reg:linear is now deprecated in favor of reg:squarederror.\n",
      "[22:45:29] WARNING: C:/Users/Administrator/workspace/xgboost-win64_release_1.4.0/src/objective/regression_obj.cu:171: reg:linear is now deprecated in favor of reg:squarederror.\n",
      "[22:45:29] WARNING: C:/Users/Administrator/workspace/xgboost-win64_release_1.4.0/src/objective/regression_obj.cu:171: reg:linear is now deprecated in favor of reg:squarederror.\n",
      "[22:45:29] WARNING: C:/Users/Administrator/workspace/xgboost-win64_release_1.4.0/src/objective/regression_obj.cu:171: reg:linear is now deprecated in favor of reg:squarederror.\n",
      "[22:45:29] WARNING: C:/Users/Administrator/workspace/xgboost-win64_release_1.4.0/src/objective/regression_obj.cu:171: reg:linear is now deprecated in favor of reg:squarederror.\n",
      "Wall time: 6.6 s\n",
      "\tR2 2.5844671999999997 for 29 rounds\n",
      "\n",
      "[22:45:35] WARNING: C:/Users/Administrator/workspace/xgboost-win64_release_1.4.0/src/objective/regression_obj.cu:171: reg:linear is now deprecated in favor of reg:squarederror.\n",
      "[22:45:35] WARNING: C:/Users/Administrator/workspace/xgboost-win64_release_1.4.0/src/objective/regression_obj.cu:171: reg:linear is now deprecated in favor of reg:squarederror.\n",
      "[22:45:35] WARNING: C:/Users/Administrator/workspace/xgboost-win64_release_1.4.0/src/objective/regression_obj.cu:171: reg:linear is now deprecated in favor of reg:squarederror.\n",
      "[22:45:35] WARNING: C:/Users/Administrator/workspace/xgboost-win64_release_1.4.0/src/objective/regression_obj.cu:171: reg:linear is now deprecated in favor of reg:squarederror.\n",
      "[22:45:35] WARNING: C:/Users/Administrator/workspace/xgboost-win64_release_1.4.0/src/objective/regression_obj.cu:171: reg:linear is now deprecated in favor of reg:squarederror.\n",
      "Wall time: 6.66 s\n",
      "\tR2 3.7041244000000004 for 29 rounds\n",
      "\n",
      "Best params: 0.2, R2: -0.7280289999999999\n"
     ]
    }
   ],
   "source": [
    "warnings.filterwarnings('ignore')\n",
    "%time\n",
    "min_r2 = float(\"Inf\")\n",
    "best_params = None\n",
    "for eta in [.3, .2, .1, .05, .01, .005]:\n",
    "    #print(\"CV with eta={}\".format(eta))\n",
    "    params['eta'] = eta\n",
    "    %time cv_results = xgb.cv(params,dtrain,num_boost_round=num_boost_round,seed=42,nfold=5,feval = rsquared,early_stopping_rounds=10)\n",
    "    mean_r2 = cv_results['test-r2-mean'].min()\n",
    "    boost_rounds = cv_results['test-r2-mean'].argmin()\n",
    "    print(\"\\tR2 {} for {} rounds\\n\".format(mean_r2, boost_rounds))\n",
    "    if mean_r2 < min_r2:\n",
    "        min_r2 = mean_r2\n",
    "        best_params = eta\n",
    "print(\"Best params: {}, R2: {}\".format(best_params, min_r2))"
   ]
  },
  {
   "cell_type": "code",
   "execution_count": 27,
   "metadata": {},
   "outputs": [],
   "source": [
    "params['eta'] = .2"
   ]
  },
  {
   "cell_type": "code",
   "execution_count": 28,
   "metadata": {},
   "outputs": [
    {
     "name": "stdout",
     "output_type": "stream",
     "text": [
      "[22:45:42] WARNING: C:/Users/Administrator/workspace/xgboost-win64_release_1.4.0/src/objective/regression_obj.cu:171: reg:linear is now deprecated in favor of reg:squarederror.\n",
      "[0]\tTrain-r2:3.14619\n",
      "[1]\tTrain-r2:1.77894\n",
      "[2]\tTrain-r2:0.91423\n",
      "[3]\tTrain-r2:0.34268\n",
      "[4]\tTrain-r2:-0.02926\n",
      "[5]\tTrain-r2:-0.26900\n",
      "[6]\tTrain-r2:-0.42515\n",
      "[7]\tTrain-r2:-0.52552\n",
      "[8]\tTrain-r2:-0.59389\n",
      "[9]\tTrain-r2:-0.63931\n",
      "[10]\tTrain-r2:-0.67117\n",
      "[11]\tTrain-r2:-0.69404\n",
      "[12]\tTrain-r2:-0.70764\n",
      "[13]\tTrain-r2:-0.71482\n",
      "[14]\tTrain-r2:-0.72117\n",
      "[15]\tTrain-r2:-0.72683\n",
      "[16]\tTrain-r2:-0.72918\n",
      "[17]\tTrain-r2:-0.73158\n",
      "[18]\tTrain-r2:-0.73336\n",
      "[19]\tTrain-r2:-0.73516\n",
      "[20]\tTrain-r2:-0.73491\n",
      "[21]\tTrain-r2:-0.73580\n",
      "[22]\tTrain-r2:-0.73635\n",
      "[23]\tTrain-r2:-0.73697\n",
      "[24]\tTrain-r2:-0.73889\n",
      "[25]\tTrain-r2:-0.73983\n",
      "[26]\tTrain-r2:-0.74047\n",
      "[27]\tTrain-r2:-0.74020\n",
      "[28]\tTrain-r2:-0.74121\n",
      "[29]\tTrain-r2:-0.74136\n"
     ]
    }
   ],
   "source": [
    "#Обучим модель XGBoost\n",
    "model = xgb.train(\n",
    "    params,\n",
    "    dtrain,\n",
    "    num_boost_round=num_boost_round, \n",
    "    feval = rsquared,\n",
    "    evals=[(dvalid, \"Train\")],\n",
    "    early_stopping_rounds=10\n",
    ")"
   ]
  },
  {
   "cell_type": "code",
   "execution_count": 29,
   "metadata": {},
   "outputs": [
    {
     "name": "stdout",
     "output_type": "stream",
     "text": [
      "R2 XGBoost =  0.6042\n"
     ]
    }
   ],
   "source": [
    "print('R2 XGBoost = ',round((r2_score(model.predict(dtest), y_test)),4))"
   ]
  },
  {
   "cell_type": "markdown",
   "metadata": {},
   "source": [
    "Построим график предсказаний на обучающей и валидационной выборке"
   ]
  },
  {
   "cell_type": "markdown",
   "metadata": {},
   "source": [
    "Сделаем функцию для отрисовки графика"
   ]
  },
  {
   "cell_type": "code",
   "execution_count": 30,
   "metadata": {},
   "outputs": [],
   "source": [
    "def evaluate_preds(train_true_values, train_pred_values, test_true_values, test_pred_values):\n",
    "    print(\"Train R2:\\t\" + str(round(r2(train_true_values, train_pred_values), 3)))\n",
    "    print(\"Test R2:\\t\" + str(round(r2(test_true_values, test_pred_values), 3)))\n",
    "    \n",
    "    plt.figure(figsize=(18,10))\n",
    "    \n",
    "    plt.subplot(121)\n",
    "    sns.scatterplot(x=train_pred_values, y=train_true_values)\n",
    "    plt.xlabel('Predicted values')\n",
    "    plt.ylabel('True values')\n",
    "    plt.title('Train sample prediction')\n",
    "    \n",
    "    plt.subplot(122)\n",
    "    sns.scatterplot(x=test_pred_values, y=test_true_values)\n",
    "    plt.xlabel('Predicted values')\n",
    "    plt.ylabel('True values')\n",
    "    plt.title('Test sample prediction')"
   ]
  },
  {
   "cell_type": "code",
   "execution_count": 31,
   "metadata": {},
   "outputs": [],
   "source": [
    "#y_train_preds = stack.predict(x_train)\n",
    "#y_test_preds = stack.predict(X_valid)\n",
    "\n",
    "#evaluate_preds(y_train, y_train_preds, y_valid, y_test_preds)"
   ]
  },
  {
   "cell_type": "markdown",
   "metadata": {},
   "source": [
    "# 3. Тестирование модели  <a class=\"anchor\" id=\"3-bullet\"></a>\n",
    "[Обратно в оглавление](#0-bullet)"
   ]
  },
  {
   "cell_type": "code",
   "execution_count": 32,
   "metadata": {},
   "outputs": [],
   "source": [
    "#Заполнение пропусков для тестовых данных\n",
    "\n",
    "#Создание столбца - Остальная площадь\n",
    "test_data['other_square'] = test_data['Square'] - test_data['LifeSquare'] - test_data['KitchenSquare']\n",
    "#Заполнение остальной плоащди по средними, сгруппированными по количеству комнат\n",
    "test_data['other_square'] = test_data['other_square'].fillna(test_data.groupby('Rooms')['other_square'].\n",
    "                                                                     transform('mean'))\n",
    "#Заполнение пропусков в жилой площади\n",
    "#train_data['LifeSquare_2'] = train_data['Square'] - train_data['other_square'] - train_data['KitchenSquare']\n",
    "test_data['LifeSquare'] = test_data['Square'] - test_data['other_square'] - test_data['KitchenSquare']\n",
    "#Удалим столбец other_square, так как он уже не нужен\n",
    "test_data = test_data.drop(columns = ['other_square'])\n",
    "\n",
    "#Заполнение пропусков в Healthcare_1\n",
    "max_healthcare = train_data['Healthcare_1'].max()\n",
    "min_healthcare = train_data['Healthcare_1'].min()\n",
    "null_index = test_data[test_data['Healthcare_1'].isnull()].index\n",
    "#display(null_index)\n",
    "for i in null_index:\n",
    "    test_data.loc[i,'Healthcare_1'] = randint(min_healthcare, max_healthcare)\n",
    "#display(train_data.groupby('Healthcare_1')['Healthcare_1'].count())\n"
   ]
  },
  {
   "cell_type": "code",
   "execution_count": 33,
   "metadata": {},
   "outputs": [],
   "source": [
    "#Добавление дамми переменных в тестовую выборку\n",
    "test_data = pd.get_dummies(test_data, columns = ['DistrictId','Ecology_2','Ecology_3','Shops_2'],drop_first= True)\n",
    "#Очистка от пропусков\n",
    "#test_data = test_data.dropna()\n",
    "#Удаление колонок, которых не содержится в обучающей выборке\n",
    "test_data_l = test_data.drop(columns = ['Id','Social_2'])\n",
    "#Перевод данных в нужный вид\n",
    "dtest = xgb.DMatrix(test_data_l)\n"
   ]
  },
  {
   "cell_type": "code",
   "execution_count": 34,
   "metadata": {},
   "outputs": [
    {
     "data": {
      "text/html": [
       "<div>\n",
       "<style scoped>\n",
       "    .dataframe tbody tr th:only-of-type {\n",
       "        vertical-align: middle;\n",
       "    }\n",
       "\n",
       "    .dataframe tbody tr th {\n",
       "        vertical-align: top;\n",
       "    }\n",
       "\n",
       "    .dataframe thead th {\n",
       "        text-align: right;\n",
       "    }\n",
       "</style>\n",
       "<table border=\"1\" class=\"dataframe\">\n",
       "  <thead>\n",
       "    <tr style=\"text-align: right;\">\n",
       "      <th></th>\n",
       "      <th>Id</th>\n",
       "      <th>Rooms</th>\n",
       "      <th>Square</th>\n",
       "      <th>LifeSquare</th>\n",
       "      <th>KitchenSquare</th>\n",
       "      <th>Floor</th>\n",
       "      <th>HouseFloor</th>\n",
       "      <th>HouseYear</th>\n",
       "      <th>Ecology_1</th>\n",
       "      <th>Social_1</th>\n",
       "      <th>...</th>\n",
       "      <th>DistrictId_205</th>\n",
       "      <th>DistrictId_206</th>\n",
       "      <th>DistrictId_208</th>\n",
       "      <th>DistrictId_209</th>\n",
       "      <th>DistrictId_210</th>\n",
       "      <th>DistrictId_211</th>\n",
       "      <th>DistrictId_212</th>\n",
       "      <th>Ecology_2_B</th>\n",
       "      <th>Ecology_3_B</th>\n",
       "      <th>Shops_2_B</th>\n",
       "    </tr>\n",
       "  </thead>\n",
       "  <tbody>\n",
       "    <tr>\n",
       "      <th>0</th>\n",
       "      <td>4567</td>\n",
       "      <td>1.0</td>\n",
       "      <td>36.847630</td>\n",
       "      <td>19.094182</td>\n",
       "      <td>5.0</td>\n",
       "      <td>5</td>\n",
       "      <td>9.0</td>\n",
       "      <td>1970</td>\n",
       "      <td>0.036122</td>\n",
       "      <td>24</td>\n",
       "      <td>...</td>\n",
       "      <td>0</td>\n",
       "      <td>0</td>\n",
       "      <td>0</td>\n",
       "      <td>0</td>\n",
       "      <td>0</td>\n",
       "      <td>0</td>\n",
       "      <td>0</td>\n",
       "      <td>1</td>\n",
       "      <td>1</td>\n",
       "      <td>1</td>\n",
       "    </tr>\n",
       "    <tr>\n",
       "      <th>1</th>\n",
       "      <td>5925</td>\n",
       "      <td>1.0</td>\n",
       "      <td>42.493907</td>\n",
       "      <td>42.568133</td>\n",
       "      <td>10.0</td>\n",
       "      <td>7</td>\n",
       "      <td>17.0</td>\n",
       "      <td>2017</td>\n",
       "      <td>0.072158</td>\n",
       "      <td>2</td>\n",
       "      <td>...</td>\n",
       "      <td>0</td>\n",
       "      <td>0</td>\n",
       "      <td>0</td>\n",
       "      <td>0</td>\n",
       "      <td>0</td>\n",
       "      <td>0</td>\n",
       "      <td>0</td>\n",
       "      <td>1</td>\n",
       "      <td>1</td>\n",
       "      <td>0</td>\n",
       "    </tr>\n",
       "    <tr>\n",
       "      <th>2</th>\n",
       "      <td>960</td>\n",
       "      <td>2.0</td>\n",
       "      <td>59.463678</td>\n",
       "      <td>39.469447</td>\n",
       "      <td>9.0</td>\n",
       "      <td>19</td>\n",
       "      <td>19.0</td>\n",
       "      <td>1977</td>\n",
       "      <td>0.211401</td>\n",
       "      <td>9</td>\n",
       "      <td>...</td>\n",
       "      <td>0</td>\n",
       "      <td>0</td>\n",
       "      <td>0</td>\n",
       "      <td>0</td>\n",
       "      <td>0</td>\n",
       "      <td>0</td>\n",
       "      <td>0</td>\n",
       "      <td>1</td>\n",
       "      <td>1</td>\n",
       "      <td>1</td>\n",
       "    </tr>\n",
       "    <tr>\n",
       "      <th>3</th>\n",
       "      <td>3848</td>\n",
       "      <td>3.0</td>\n",
       "      <td>49.646030</td>\n",
       "      <td>33.893825</td>\n",
       "      <td>6.0</td>\n",
       "      <td>2</td>\n",
       "      <td>2.0</td>\n",
       "      <td>1965</td>\n",
       "      <td>0.014073</td>\n",
       "      <td>2</td>\n",
       "      <td>...</td>\n",
       "      <td>0</td>\n",
       "      <td>0</td>\n",
       "      <td>0</td>\n",
       "      <td>0</td>\n",
       "      <td>0</td>\n",
       "      <td>0</td>\n",
       "      <td>0</td>\n",
       "      <td>1</td>\n",
       "      <td>1</td>\n",
       "      <td>1</td>\n",
       "    </tr>\n",
       "    <tr>\n",
       "      <th>4</th>\n",
       "      <td>746</td>\n",
       "      <td>1.0</td>\n",
       "      <td>53.837056</td>\n",
       "      <td>43.942354</td>\n",
       "      <td>1.0</td>\n",
       "      <td>8</td>\n",
       "      <td>17.0</td>\n",
       "      <td>1977</td>\n",
       "      <td>0.309479</td>\n",
       "      <td>35</td>\n",
       "      <td>...</td>\n",
       "      <td>0</td>\n",
       "      <td>0</td>\n",
       "      <td>0</td>\n",
       "      <td>0</td>\n",
       "      <td>0</td>\n",
       "      <td>0</td>\n",
       "      <td>0</td>\n",
       "      <td>1</td>\n",
       "      <td>1</td>\n",
       "      <td>1</td>\n",
       "    </tr>\n",
       "  </tbody>\n",
       "</table>\n",
       "<p>5 rows × 218 columns</p>\n",
       "</div>"
      ],
      "text/plain": [
       "     Id  Rooms     Square  LifeSquare  KitchenSquare  Floor  HouseFloor  \\\n",
       "0  4567    1.0  36.847630   19.094182            5.0      5         9.0   \n",
       "1  5925    1.0  42.493907   42.568133           10.0      7        17.0   \n",
       "2   960    2.0  59.463678   39.469447            9.0     19        19.0   \n",
       "3  3848    3.0  49.646030   33.893825            6.0      2         2.0   \n",
       "4   746    1.0  53.837056   43.942354            1.0      8        17.0   \n",
       "\n",
       "   HouseYear  Ecology_1  Social_1  ...  DistrictId_205  DistrictId_206  \\\n",
       "0       1970   0.036122        24  ...               0               0   \n",
       "1       2017   0.072158         2  ...               0               0   \n",
       "2       1977   0.211401         9  ...               0               0   \n",
       "3       1965   0.014073         2  ...               0               0   \n",
       "4       1977   0.309479        35  ...               0               0   \n",
       "\n",
       "   DistrictId_208  DistrictId_209  DistrictId_210  DistrictId_211  \\\n",
       "0               0               0               0               0   \n",
       "1               0               0               0               0   \n",
       "2               0               0               0               0   \n",
       "3               0               0               0               0   \n",
       "4               0               0               0               0   \n",
       "\n",
       "   DistrictId_212  Ecology_2_B  Ecology_3_B  Shops_2_B  \n",
       "0               0            1            1          1  \n",
       "1               0            1            1          0  \n",
       "2               0            1            1          1  \n",
       "3               0            1            1          1  \n",
       "4               0            1            1          1  \n",
       "\n",
       "[5 rows x 218 columns]"
      ]
     },
     "execution_count": 34,
     "metadata": {},
     "output_type": "execute_result"
    }
   ],
   "source": [
    "test_data.head(5)"
   ]
  },
  {
   "cell_type": "code",
   "execution_count": 35,
   "metadata": {},
   "outputs": [
    {
     "data": {
      "text/html": [
       "<div>\n",
       "<style scoped>\n",
       "    .dataframe tbody tr th:only-of-type {\n",
       "        vertical-align: middle;\n",
       "    }\n",
       "\n",
       "    .dataframe tbody tr th {\n",
       "        vertical-align: top;\n",
       "    }\n",
       "\n",
       "    .dataframe thead th {\n",
       "        text-align: right;\n",
       "    }\n",
       "</style>\n",
       "<table border=\"1\" class=\"dataframe\">\n",
       "  <thead>\n",
       "    <tr style=\"text-align: right;\">\n",
       "      <th></th>\n",
       "      <th>Rooms</th>\n",
       "      <th>Square</th>\n",
       "      <th>LifeSquare</th>\n",
       "      <th>KitchenSquare</th>\n",
       "      <th>Floor</th>\n",
       "      <th>HouseFloor</th>\n",
       "      <th>HouseYear</th>\n",
       "      <th>Ecology_1</th>\n",
       "      <th>Social_1</th>\n",
       "      <th>Social_3</th>\n",
       "      <th>...</th>\n",
       "      <th>DistrictId_205</th>\n",
       "      <th>DistrictId_206</th>\n",
       "      <th>DistrictId_208</th>\n",
       "      <th>DistrictId_209</th>\n",
       "      <th>DistrictId_210</th>\n",
       "      <th>DistrictId_211</th>\n",
       "      <th>DistrictId_212</th>\n",
       "      <th>Ecology_2_B</th>\n",
       "      <th>Ecology_3_B</th>\n",
       "      <th>Shops_2_B</th>\n",
       "    </tr>\n",
       "  </thead>\n",
       "  <tbody>\n",
       "    <tr>\n",
       "      <th>0</th>\n",
       "      <td>1.0</td>\n",
       "      <td>36.847630</td>\n",
       "      <td>19.094182</td>\n",
       "      <td>5.0</td>\n",
       "      <td>5</td>\n",
       "      <td>9.0</td>\n",
       "      <td>1970</td>\n",
       "      <td>0.036122</td>\n",
       "      <td>24</td>\n",
       "      <td>0</td>\n",
       "      <td>...</td>\n",
       "      <td>0</td>\n",
       "      <td>0</td>\n",
       "      <td>0</td>\n",
       "      <td>0</td>\n",
       "      <td>0</td>\n",
       "      <td>0</td>\n",
       "      <td>0</td>\n",
       "      <td>1</td>\n",
       "      <td>1</td>\n",
       "      <td>1</td>\n",
       "    </tr>\n",
       "    <tr>\n",
       "      <th>1</th>\n",
       "      <td>1.0</td>\n",
       "      <td>42.493907</td>\n",
       "      <td>42.568133</td>\n",
       "      <td>10.0</td>\n",
       "      <td>7</td>\n",
       "      <td>17.0</td>\n",
       "      <td>2017</td>\n",
       "      <td>0.072158</td>\n",
       "      <td>2</td>\n",
       "      <td>1</td>\n",
       "      <td>...</td>\n",
       "      <td>0</td>\n",
       "      <td>0</td>\n",
       "      <td>0</td>\n",
       "      <td>0</td>\n",
       "      <td>0</td>\n",
       "      <td>0</td>\n",
       "      <td>0</td>\n",
       "      <td>1</td>\n",
       "      <td>1</td>\n",
       "      <td>0</td>\n",
       "    </tr>\n",
       "    <tr>\n",
       "      <th>2</th>\n",
       "      <td>2.0</td>\n",
       "      <td>59.463678</td>\n",
       "      <td>39.469447</td>\n",
       "      <td>9.0</td>\n",
       "      <td>19</td>\n",
       "      <td>19.0</td>\n",
       "      <td>1977</td>\n",
       "      <td>0.211401</td>\n",
       "      <td>9</td>\n",
       "      <td>0</td>\n",
       "      <td>...</td>\n",
       "      <td>0</td>\n",
       "      <td>0</td>\n",
       "      <td>0</td>\n",
       "      <td>0</td>\n",
       "      <td>0</td>\n",
       "      <td>0</td>\n",
       "      <td>0</td>\n",
       "      <td>1</td>\n",
       "      <td>1</td>\n",
       "      <td>1</td>\n",
       "    </tr>\n",
       "    <tr>\n",
       "      <th>3</th>\n",
       "      <td>3.0</td>\n",
       "      <td>49.646030</td>\n",
       "      <td>33.893825</td>\n",
       "      <td>6.0</td>\n",
       "      <td>2</td>\n",
       "      <td>2.0</td>\n",
       "      <td>1965</td>\n",
       "      <td>0.014073</td>\n",
       "      <td>2</td>\n",
       "      <td>0</td>\n",
       "      <td>...</td>\n",
       "      <td>0</td>\n",
       "      <td>0</td>\n",
       "      <td>0</td>\n",
       "      <td>0</td>\n",
       "      <td>0</td>\n",
       "      <td>0</td>\n",
       "      <td>0</td>\n",
       "      <td>1</td>\n",
       "      <td>1</td>\n",
       "      <td>1</td>\n",
       "    </tr>\n",
       "    <tr>\n",
       "      <th>4</th>\n",
       "      <td>1.0</td>\n",
       "      <td>53.837056</td>\n",
       "      <td>43.942354</td>\n",
       "      <td>1.0</td>\n",
       "      <td>8</td>\n",
       "      <td>17.0</td>\n",
       "      <td>1977</td>\n",
       "      <td>0.309479</td>\n",
       "      <td>35</td>\n",
       "      <td>4</td>\n",
       "      <td>...</td>\n",
       "      <td>0</td>\n",
       "      <td>0</td>\n",
       "      <td>0</td>\n",
       "      <td>0</td>\n",
       "      <td>0</td>\n",
       "      <td>0</td>\n",
       "      <td>0</td>\n",
       "      <td>1</td>\n",
       "      <td>1</td>\n",
       "      <td>1</td>\n",
       "    </tr>\n",
       "  </tbody>\n",
       "</table>\n",
       "<p>5 rows × 216 columns</p>\n",
       "</div>"
      ],
      "text/plain": [
       "   Rooms     Square  LifeSquare  KitchenSquare  Floor  HouseFloor  HouseYear  \\\n",
       "0    1.0  36.847630   19.094182            5.0      5         9.0       1970   \n",
       "1    1.0  42.493907   42.568133           10.0      7        17.0       2017   \n",
       "2    2.0  59.463678   39.469447            9.0     19        19.0       1977   \n",
       "3    3.0  49.646030   33.893825            6.0      2         2.0       1965   \n",
       "4    1.0  53.837056   43.942354            1.0      8        17.0       1977   \n",
       "\n",
       "   Ecology_1  Social_1  Social_3  ...  DistrictId_205  DistrictId_206  \\\n",
       "0   0.036122        24         0  ...               0               0   \n",
       "1   0.072158         2         1  ...               0               0   \n",
       "2   0.211401         9         0  ...               0               0   \n",
       "3   0.014073         2         0  ...               0               0   \n",
       "4   0.309479        35         4  ...               0               0   \n",
       "\n",
       "   DistrictId_208  DistrictId_209  DistrictId_210  DistrictId_211  \\\n",
       "0               0               0               0               0   \n",
       "1               0               0               0               0   \n",
       "2               0               0               0               0   \n",
       "3               0               0               0               0   \n",
       "4               0               0               0               0   \n",
       "\n",
       "   DistrictId_212  Ecology_2_B  Ecology_3_B  Shops_2_B  \n",
       "0               0            1            1          1  \n",
       "1               0            1            1          0  \n",
       "2               0            1            1          1  \n",
       "3               0            1            1          1  \n",
       "4               0            1            1          1  \n",
       "\n",
       "[5 rows x 216 columns]"
      ]
     },
     "execution_count": 35,
     "metadata": {},
     "output_type": "execute_result"
    }
   ],
   "source": [
    "test_data_l.head(5)"
   ]
  },
  {
   "cell_type": "markdown",
   "metadata": {},
   "source": [
    "Получим предсказания"
   ]
  },
  {
   "cell_type": "code",
   "execution_count": null,
   "metadata": {},
   "outputs": [],
   "source": []
  },
  {
   "cell_type": "code",
   "execution_count": 36,
   "metadata": {
    "scrolled": true
   },
   "outputs": [
    {
     "ename": "ValueError",
     "evalue": "feature_names mismatch: ['Rooms', 'Square', 'LifeSquare', 'KitchenSquare', 'Floor', 'HouseFloor', 'HouseYear', 'Ecology_1', 'Social_1', 'Social_3', 'Healthcare_1', 'Helthcare_2', 'Shops_1', 'DistrictId_1', 'DistrictId_2', 'DistrictId_3', 'DistrictId_4', 'DistrictId_5', 'DistrictId_6', 'DistrictId_7', 'DistrictId_8', 'DistrictId_9', 'DistrictId_10', 'DistrictId_11', 'DistrictId_12', 'DistrictId_13', 'DistrictId_14', 'DistrictId_15', 'DistrictId_16', 'DistrictId_17', 'DistrictId_18', 'DistrictId_19', 'DistrictId_20', 'DistrictId_21', 'DistrictId_22', 'DistrictId_23', 'DistrictId_24', 'DistrictId_25', 'DistrictId_26', 'DistrictId_27', 'DistrictId_28', 'DistrictId_29', 'DistrictId_30', 'DistrictId_31', 'DistrictId_32', 'DistrictId_33', 'DistrictId_34', 'DistrictId_35', 'DistrictId_36', 'DistrictId_37', 'DistrictId_38', 'DistrictId_39', 'DistrictId_40', 'DistrictId_41', 'DistrictId_42', 'DistrictId_43', 'DistrictId_44', 'DistrictId_45', 'DistrictId_46', 'DistrictId_47', 'DistrictId_48', 'DistrictId_49', 'DistrictId_50', 'DistrictId_51', 'DistrictId_52', 'DistrictId_53', 'DistrictId_54', 'DistrictId_55', 'DistrictId_56', 'DistrictId_57', 'DistrictId_58', 'DistrictId_59', 'DistrictId_60', 'DistrictId_61', 'DistrictId_62', 'DistrictId_63', 'DistrictId_64', 'DistrictId_65', 'DistrictId_66', 'DistrictId_67', 'DistrictId_68', 'DistrictId_69', 'DistrictId_70', 'DistrictId_71', 'DistrictId_72', 'DistrictId_73', 'DistrictId_74', 'DistrictId_75', 'DistrictId_76', 'DistrictId_77', 'DistrictId_78', 'DistrictId_79', 'DistrictId_80', 'DistrictId_81', 'DistrictId_82', 'DistrictId_83', 'DistrictId_84', 'DistrictId_85', 'DistrictId_86', 'DistrictId_87', 'DistrictId_88', 'DistrictId_89', 'DistrictId_90', 'DistrictId_91', 'DistrictId_92', 'DistrictId_93', 'DistrictId_94', 'DistrictId_95', 'DistrictId_96', 'DistrictId_97', 'DistrictId_98', 'DistrictId_99', 'DistrictId_100', 'DistrictId_101', 'DistrictId_102', 'DistrictId_103', 'DistrictId_104', 'DistrictId_105', 'DistrictId_106', 'DistrictId_107', 'DistrictId_108', 'DistrictId_109', 'DistrictId_110', 'DistrictId_111', 'DistrictId_112', 'DistrictId_113', 'DistrictId_114', 'DistrictId_115', 'DistrictId_116', 'DistrictId_117', 'DistrictId_118', 'DistrictId_119', 'DistrictId_120', 'DistrictId_121', 'DistrictId_122', 'DistrictId_123', 'DistrictId_124', 'DistrictId_125', 'DistrictId_126', 'DistrictId_127', 'DistrictId_128', 'DistrictId_129', 'DistrictId_130', 'DistrictId_131', 'DistrictId_132', 'DistrictId_133', 'DistrictId_134', 'DistrictId_135', 'DistrictId_136', 'DistrictId_137', 'DistrictId_138', 'DistrictId_139', 'DistrictId_140', 'DistrictId_141', 'DistrictId_142', 'DistrictId_143', 'DistrictId_144', 'DistrictId_145', 'DistrictId_146', 'DistrictId_147', 'DistrictId_148', 'DistrictId_149', 'DistrictId_150', 'DistrictId_151', 'DistrictId_152', 'DistrictId_153', 'DistrictId_154', 'DistrictId_155', 'DistrictId_156', 'DistrictId_157', 'DistrictId_158', 'DistrictId_159', 'DistrictId_160', 'DistrictId_161', 'DistrictId_162', 'DistrictId_163', 'DistrictId_164', 'DistrictId_165', 'DistrictId_166', 'DistrictId_167', 'DistrictId_168', 'DistrictId_169', 'DistrictId_170', 'DistrictId_171', 'DistrictId_172', 'DistrictId_173', 'DistrictId_174', 'DistrictId_175', 'DistrictId_176', 'DistrictId_177', 'DistrictId_178', 'DistrictId_179', 'DistrictId_180', 'DistrictId_181', 'DistrictId_182', 'DistrictId_183', 'DistrictId_184', 'DistrictId_185', 'DistrictId_186', 'DistrictId_187', 'DistrictId_188', 'DistrictId_189', 'DistrictId_190', 'DistrictId_191', 'DistrictId_192', 'DistrictId_193', 'DistrictId_194', 'DistrictId_195', 'DistrictId_196', 'DistrictId_199', 'DistrictId_200', 'DistrictId_201', 'DistrictId_202', 'DistrictId_205', 'DistrictId_207', 'DistrictId_208', 'DistrictId_209', 'Ecology_2_B', 'Ecology_3_B', 'Shops_2_B'] ['Rooms', 'Square', 'LifeSquare', 'KitchenSquare', 'Floor', 'HouseFloor', 'HouseYear', 'Ecology_1', 'Social_1', 'Social_3', 'Healthcare_1', 'Helthcare_2', 'Shops_1', 'DistrictId_1', 'DistrictId_2', 'DistrictId_3', 'DistrictId_4', 'DistrictId_5', 'DistrictId_6', 'DistrictId_7', 'DistrictId_8', 'DistrictId_9', 'DistrictId_10', 'DistrictId_11', 'DistrictId_12', 'DistrictId_13', 'DistrictId_14', 'DistrictId_15', 'DistrictId_16', 'DistrictId_17', 'DistrictId_18', 'DistrictId_19', 'DistrictId_20', 'DistrictId_21', 'DistrictId_22', 'DistrictId_23', 'DistrictId_24', 'DistrictId_25', 'DistrictId_26', 'DistrictId_27', 'DistrictId_28', 'DistrictId_29', 'DistrictId_30', 'DistrictId_31', 'DistrictId_32', 'DistrictId_33', 'DistrictId_34', 'DistrictId_35', 'DistrictId_36', 'DistrictId_37', 'DistrictId_38', 'DistrictId_39', 'DistrictId_40', 'DistrictId_41', 'DistrictId_42', 'DistrictId_43', 'DistrictId_44', 'DistrictId_45', 'DistrictId_46', 'DistrictId_47', 'DistrictId_48', 'DistrictId_49', 'DistrictId_51', 'DistrictId_52', 'DistrictId_53', 'DistrictId_54', 'DistrictId_55', 'DistrictId_56', 'DistrictId_57', 'DistrictId_58', 'DistrictId_59', 'DistrictId_60', 'DistrictId_61', 'DistrictId_62', 'DistrictId_63', 'DistrictId_64', 'DistrictId_65', 'DistrictId_66', 'DistrictId_67', 'DistrictId_68', 'DistrictId_69', 'DistrictId_70', 'DistrictId_71', 'DistrictId_72', 'DistrictId_73', 'DistrictId_74', 'DistrictId_75', 'DistrictId_76', 'DistrictId_77', 'DistrictId_78', 'DistrictId_79', 'DistrictId_80', 'DistrictId_81', 'DistrictId_82', 'DistrictId_83', 'DistrictId_84', 'DistrictId_85', 'DistrictId_86', 'DistrictId_87', 'DistrictId_88', 'DistrictId_89', 'DistrictId_90', 'DistrictId_91', 'DistrictId_92', 'DistrictId_93', 'DistrictId_94', 'DistrictId_95', 'DistrictId_96', 'DistrictId_97', 'DistrictId_98', 'DistrictId_99', 'DistrictId_100', 'DistrictId_101', 'DistrictId_102', 'DistrictId_103', 'DistrictId_104', 'DistrictId_105', 'DistrictId_106', 'DistrictId_107', 'DistrictId_108', 'DistrictId_109', 'DistrictId_110', 'DistrictId_111', 'DistrictId_112', 'DistrictId_113', 'DistrictId_114', 'DistrictId_115', 'DistrictId_116', 'DistrictId_118', 'DistrictId_119', 'DistrictId_120', 'DistrictId_121', 'DistrictId_122', 'DistrictId_123', 'DistrictId_124', 'DistrictId_125', 'DistrictId_126', 'DistrictId_127', 'DistrictId_128', 'DistrictId_129', 'DistrictId_130', 'DistrictId_131', 'DistrictId_132', 'DistrictId_134', 'DistrictId_135', 'DistrictId_136', 'DistrictId_137', 'DistrictId_138', 'DistrictId_139', 'DistrictId_140', 'DistrictId_141', 'DistrictId_142', 'DistrictId_143', 'DistrictId_144', 'DistrictId_145', 'DistrictId_146', 'DistrictId_147', 'DistrictId_148', 'DistrictId_149', 'DistrictId_150', 'DistrictId_151', 'DistrictId_152', 'DistrictId_153', 'DistrictId_154', 'DistrictId_155', 'DistrictId_156', 'DistrictId_157', 'DistrictId_159', 'DistrictId_160', 'DistrictId_161', 'DistrictId_163', 'DistrictId_164', 'DistrictId_165', 'DistrictId_166', 'DistrictId_167', 'DistrictId_168', 'DistrictId_169', 'DistrictId_170', 'DistrictId_171', 'DistrictId_172', 'DistrictId_173', 'DistrictId_175', 'DistrictId_176', 'DistrictId_177', 'DistrictId_178', 'DistrictId_179', 'DistrictId_180', 'DistrictId_181', 'DistrictId_182', 'DistrictId_183', 'DistrictId_184', 'DistrictId_185', 'DistrictId_186', 'DistrictId_187', 'DistrictId_188', 'DistrictId_189', 'DistrictId_190', 'DistrictId_191', 'DistrictId_192', 'DistrictId_193', 'DistrictId_194', 'DistrictId_196', 'DistrictId_198', 'DistrictId_200', 'DistrictId_203', 'DistrictId_204', 'DistrictId_205', 'DistrictId_206', 'DistrictId_208', 'DistrictId_209', 'DistrictId_210', 'DistrictId_211', 'DistrictId_212', 'Ecology_2_B', 'Ecology_3_B', 'Shops_2_B']\nexpected DistrictId_195, DistrictId_201, DistrictId_207, DistrictId_50, DistrictId_133, DistrictId_162, DistrictId_202, DistrictId_199, DistrictId_158, DistrictId_117, DistrictId_174 in input data\ntraining data did not have the following fields: DistrictId_210, DistrictId_198, DistrictId_212, DistrictId_211, DistrictId_206, DistrictId_203, DistrictId_204",
     "output_type": "error",
     "traceback": [
      "\u001b[1;31m---------------------------------------------------------------------------\u001b[0m",
      "\u001b[1;31mValueError\u001b[0m                                Traceback (most recent call last)",
      "\u001b[1;32m<ipython-input-36-95462d3daff2>\u001b[0m in \u001b[0;36m<module>\u001b[1;34m\u001b[0m\n\u001b[1;32m----> 1\u001b[1;33m \u001b[0mpredictions\u001b[0m \u001b[1;33m=\u001b[0m \u001b[0mmodel\u001b[0m\u001b[1;33m.\u001b[0m\u001b[0mpredict\u001b[0m\u001b[1;33m(\u001b[0m\u001b[0mdtest\u001b[0m\u001b[1;33m)\u001b[0m\u001b[1;33m\u001b[0m\u001b[1;33m\u001b[0m\u001b[0m\n\u001b[0m",
      "\u001b[1;32m~\\anaconda3\\lib\\site-packages\\xgboost\\core.py\u001b[0m in \u001b[0;36mpredict\u001b[1;34m(self, data, output_margin, ntree_limit, pred_leaf, pred_contribs, approx_contribs, pred_interactions, validate_features, training, iteration_range, strict_shape)\u001b[0m\n\u001b[0;32m   1706\u001b[0m             \u001b[1;32mraise\u001b[0m \u001b[0mTypeError\u001b[0m\u001b[1;33m(\u001b[0m\u001b[1;34m'Expecting data to be a DMatrix object, got: '\u001b[0m\u001b[1;33m,\u001b[0m \u001b[0mtype\u001b[0m\u001b[1;33m(\u001b[0m\u001b[0mdata\u001b[0m\u001b[1;33m)\u001b[0m\u001b[1;33m)\u001b[0m\u001b[1;33m\u001b[0m\u001b[1;33m\u001b[0m\u001b[0m\n\u001b[0;32m   1707\u001b[0m         \u001b[1;32mif\u001b[0m \u001b[0mvalidate_features\u001b[0m\u001b[1;33m:\u001b[0m\u001b[1;33m\u001b[0m\u001b[1;33m\u001b[0m\u001b[0m\n\u001b[1;32m-> 1708\u001b[1;33m             \u001b[0mself\u001b[0m\u001b[1;33m.\u001b[0m\u001b[0m_validate_features\u001b[0m\u001b[1;33m(\u001b[0m\u001b[0mdata\u001b[0m\u001b[1;33m)\u001b[0m\u001b[1;33m\u001b[0m\u001b[1;33m\u001b[0m\u001b[0m\n\u001b[0m\u001b[0;32m   1709\u001b[0m         \u001b[0miteration_range\u001b[0m \u001b[1;33m=\u001b[0m \u001b[0m_convert_ntree_limit\u001b[0m\u001b[1;33m(\u001b[0m\u001b[0mself\u001b[0m\u001b[1;33m,\u001b[0m \u001b[0mntree_limit\u001b[0m\u001b[1;33m,\u001b[0m \u001b[0miteration_range\u001b[0m\u001b[1;33m)\u001b[0m\u001b[1;33m\u001b[0m\u001b[1;33m\u001b[0m\u001b[0m\n\u001b[0;32m   1710\u001b[0m         args = {\n",
      "\u001b[1;32m~\\anaconda3\\lib\\site-packages\\xgboost\\core.py\u001b[0m in \u001b[0;36m_validate_features\u001b[1;34m(self, data)\u001b[0m\n\u001b[0;32m   2344\u001b[0m                         ', '.join(str(s) for s in my_missing))\n\u001b[0;32m   2345\u001b[0m \u001b[1;33m\u001b[0m\u001b[0m\n\u001b[1;32m-> 2346\u001b[1;33m             \u001b[1;32mraise\u001b[0m \u001b[0mValueError\u001b[0m\u001b[1;33m(\u001b[0m\u001b[0mmsg\u001b[0m\u001b[1;33m.\u001b[0m\u001b[0mformat\u001b[0m\u001b[1;33m(\u001b[0m\u001b[0mself\u001b[0m\u001b[1;33m.\u001b[0m\u001b[0mfeature_names\u001b[0m\u001b[1;33m,\u001b[0m \u001b[0mdata\u001b[0m\u001b[1;33m.\u001b[0m\u001b[0mfeature_names\u001b[0m\u001b[1;33m)\u001b[0m\u001b[1;33m)\u001b[0m\u001b[1;33m\u001b[0m\u001b[1;33m\u001b[0m\u001b[0m\n\u001b[0m\u001b[0;32m   2347\u001b[0m \u001b[1;33m\u001b[0m\u001b[0m\n\u001b[0;32m   2348\u001b[0m     def get_split_value_histogram(self, feature, fmap='', bins=None,\n",
      "\u001b[1;31mValueError\u001b[0m: feature_names mismatch: ['Rooms', 'Square', 'LifeSquare', 'KitchenSquare', 'Floor', 'HouseFloor', 'HouseYear', 'Ecology_1', 'Social_1', 'Social_3', 'Healthcare_1', 'Helthcare_2', 'Shops_1', 'DistrictId_1', 'DistrictId_2', 'DistrictId_3', 'DistrictId_4', 'DistrictId_5', 'DistrictId_6', 'DistrictId_7', 'DistrictId_8', 'DistrictId_9', 'DistrictId_10', 'DistrictId_11', 'DistrictId_12', 'DistrictId_13', 'DistrictId_14', 'DistrictId_15', 'DistrictId_16', 'DistrictId_17', 'DistrictId_18', 'DistrictId_19', 'DistrictId_20', 'DistrictId_21', 'DistrictId_22', 'DistrictId_23', 'DistrictId_24', 'DistrictId_25', 'DistrictId_26', 'DistrictId_27', 'DistrictId_28', 'DistrictId_29', 'DistrictId_30', 'DistrictId_31', 'DistrictId_32', 'DistrictId_33', 'DistrictId_34', 'DistrictId_35', 'DistrictId_36', 'DistrictId_37', 'DistrictId_38', 'DistrictId_39', 'DistrictId_40', 'DistrictId_41', 'DistrictId_42', 'DistrictId_43', 'DistrictId_44', 'DistrictId_45', 'DistrictId_46', 'DistrictId_47', 'DistrictId_48', 'DistrictId_49', 'DistrictId_50', 'DistrictId_51', 'DistrictId_52', 'DistrictId_53', 'DistrictId_54', 'DistrictId_55', 'DistrictId_56', 'DistrictId_57', 'DistrictId_58', 'DistrictId_59', 'DistrictId_60', 'DistrictId_61', 'DistrictId_62', 'DistrictId_63', 'DistrictId_64', 'DistrictId_65', 'DistrictId_66', 'DistrictId_67', 'DistrictId_68', 'DistrictId_69', 'DistrictId_70', 'DistrictId_71', 'DistrictId_72', 'DistrictId_73', 'DistrictId_74', 'DistrictId_75', 'DistrictId_76', 'DistrictId_77', 'DistrictId_78', 'DistrictId_79', 'DistrictId_80', 'DistrictId_81', 'DistrictId_82', 'DistrictId_83', 'DistrictId_84', 'DistrictId_85', 'DistrictId_86', 'DistrictId_87', 'DistrictId_88', 'DistrictId_89', 'DistrictId_90', 'DistrictId_91', 'DistrictId_92', 'DistrictId_93', 'DistrictId_94', 'DistrictId_95', 'DistrictId_96', 'DistrictId_97', 'DistrictId_98', 'DistrictId_99', 'DistrictId_100', 'DistrictId_101', 'DistrictId_102', 'DistrictId_103', 'DistrictId_104', 'DistrictId_105', 'DistrictId_106', 'DistrictId_107', 'DistrictId_108', 'DistrictId_109', 'DistrictId_110', 'DistrictId_111', 'DistrictId_112', 'DistrictId_113', 'DistrictId_114', 'DistrictId_115', 'DistrictId_116', 'DistrictId_117', 'DistrictId_118', 'DistrictId_119', 'DistrictId_120', 'DistrictId_121', 'DistrictId_122', 'DistrictId_123', 'DistrictId_124', 'DistrictId_125', 'DistrictId_126', 'DistrictId_127', 'DistrictId_128', 'DistrictId_129', 'DistrictId_130', 'DistrictId_131', 'DistrictId_132', 'DistrictId_133', 'DistrictId_134', 'DistrictId_135', 'DistrictId_136', 'DistrictId_137', 'DistrictId_138', 'DistrictId_139', 'DistrictId_140', 'DistrictId_141', 'DistrictId_142', 'DistrictId_143', 'DistrictId_144', 'DistrictId_145', 'DistrictId_146', 'DistrictId_147', 'DistrictId_148', 'DistrictId_149', 'DistrictId_150', 'DistrictId_151', 'DistrictId_152', 'DistrictId_153', 'DistrictId_154', 'DistrictId_155', 'DistrictId_156', 'DistrictId_157', 'DistrictId_158', 'DistrictId_159', 'DistrictId_160', 'DistrictId_161', 'DistrictId_162', 'DistrictId_163', 'DistrictId_164', 'DistrictId_165', 'DistrictId_166', 'DistrictId_167', 'DistrictId_168', 'DistrictId_169', 'DistrictId_170', 'DistrictId_171', 'DistrictId_172', 'DistrictId_173', 'DistrictId_174', 'DistrictId_175', 'DistrictId_176', 'DistrictId_177', 'DistrictId_178', 'DistrictId_179', 'DistrictId_180', 'DistrictId_181', 'DistrictId_182', 'DistrictId_183', 'DistrictId_184', 'DistrictId_185', 'DistrictId_186', 'DistrictId_187', 'DistrictId_188', 'DistrictId_189', 'DistrictId_190', 'DistrictId_191', 'DistrictId_192', 'DistrictId_193', 'DistrictId_194', 'DistrictId_195', 'DistrictId_196', 'DistrictId_199', 'DistrictId_200', 'DistrictId_201', 'DistrictId_202', 'DistrictId_205', 'DistrictId_207', 'DistrictId_208', 'DistrictId_209', 'Ecology_2_B', 'Ecology_3_B', 'Shops_2_B'] ['Rooms', 'Square', 'LifeSquare', 'KitchenSquare', 'Floor', 'HouseFloor', 'HouseYear', 'Ecology_1', 'Social_1', 'Social_3', 'Healthcare_1', 'Helthcare_2', 'Shops_1', 'DistrictId_1', 'DistrictId_2', 'DistrictId_3', 'DistrictId_4', 'DistrictId_5', 'DistrictId_6', 'DistrictId_7', 'DistrictId_8', 'DistrictId_9', 'DistrictId_10', 'DistrictId_11', 'DistrictId_12', 'DistrictId_13', 'DistrictId_14', 'DistrictId_15', 'DistrictId_16', 'DistrictId_17', 'DistrictId_18', 'DistrictId_19', 'DistrictId_20', 'DistrictId_21', 'DistrictId_22', 'DistrictId_23', 'DistrictId_24', 'DistrictId_25', 'DistrictId_26', 'DistrictId_27', 'DistrictId_28', 'DistrictId_29', 'DistrictId_30', 'DistrictId_31', 'DistrictId_32', 'DistrictId_33', 'DistrictId_34', 'DistrictId_35', 'DistrictId_36', 'DistrictId_37', 'DistrictId_38', 'DistrictId_39', 'DistrictId_40', 'DistrictId_41', 'DistrictId_42', 'DistrictId_43', 'DistrictId_44', 'DistrictId_45', 'DistrictId_46', 'DistrictId_47', 'DistrictId_48', 'DistrictId_49', 'DistrictId_51', 'DistrictId_52', 'DistrictId_53', 'DistrictId_54', 'DistrictId_55', 'DistrictId_56', 'DistrictId_57', 'DistrictId_58', 'DistrictId_59', 'DistrictId_60', 'DistrictId_61', 'DistrictId_62', 'DistrictId_63', 'DistrictId_64', 'DistrictId_65', 'DistrictId_66', 'DistrictId_67', 'DistrictId_68', 'DistrictId_69', 'DistrictId_70', 'DistrictId_71', 'DistrictId_72', 'DistrictId_73', 'DistrictId_74', 'DistrictId_75', 'DistrictId_76', 'DistrictId_77', 'DistrictId_78', 'DistrictId_79', 'DistrictId_80', 'DistrictId_81', 'DistrictId_82', 'DistrictId_83', 'DistrictId_84', 'DistrictId_85', 'DistrictId_86', 'DistrictId_87', 'DistrictId_88', 'DistrictId_89', 'DistrictId_90', 'DistrictId_91', 'DistrictId_92', 'DistrictId_93', 'DistrictId_94', 'DistrictId_95', 'DistrictId_96', 'DistrictId_97', 'DistrictId_98', 'DistrictId_99', 'DistrictId_100', 'DistrictId_101', 'DistrictId_102', 'DistrictId_103', 'DistrictId_104', 'DistrictId_105', 'DistrictId_106', 'DistrictId_107', 'DistrictId_108', 'DistrictId_109', 'DistrictId_110', 'DistrictId_111', 'DistrictId_112', 'DistrictId_113', 'DistrictId_114', 'DistrictId_115', 'DistrictId_116', 'DistrictId_118', 'DistrictId_119', 'DistrictId_120', 'DistrictId_121', 'DistrictId_122', 'DistrictId_123', 'DistrictId_124', 'DistrictId_125', 'DistrictId_126', 'DistrictId_127', 'DistrictId_128', 'DistrictId_129', 'DistrictId_130', 'DistrictId_131', 'DistrictId_132', 'DistrictId_134', 'DistrictId_135', 'DistrictId_136', 'DistrictId_137', 'DistrictId_138', 'DistrictId_139', 'DistrictId_140', 'DistrictId_141', 'DistrictId_142', 'DistrictId_143', 'DistrictId_144', 'DistrictId_145', 'DistrictId_146', 'DistrictId_147', 'DistrictId_148', 'DistrictId_149', 'DistrictId_150', 'DistrictId_151', 'DistrictId_152', 'DistrictId_153', 'DistrictId_154', 'DistrictId_155', 'DistrictId_156', 'DistrictId_157', 'DistrictId_159', 'DistrictId_160', 'DistrictId_161', 'DistrictId_163', 'DistrictId_164', 'DistrictId_165', 'DistrictId_166', 'DistrictId_167', 'DistrictId_168', 'DistrictId_169', 'DistrictId_170', 'DistrictId_171', 'DistrictId_172', 'DistrictId_173', 'DistrictId_175', 'DistrictId_176', 'DistrictId_177', 'DistrictId_178', 'DistrictId_179', 'DistrictId_180', 'DistrictId_181', 'DistrictId_182', 'DistrictId_183', 'DistrictId_184', 'DistrictId_185', 'DistrictId_186', 'DistrictId_187', 'DistrictId_188', 'DistrictId_189', 'DistrictId_190', 'DistrictId_191', 'DistrictId_192', 'DistrictId_193', 'DistrictId_194', 'DistrictId_196', 'DistrictId_198', 'DistrictId_200', 'DistrictId_203', 'DistrictId_204', 'DistrictId_205', 'DistrictId_206', 'DistrictId_208', 'DistrictId_209', 'DistrictId_210', 'DistrictId_211', 'DistrictId_212', 'Ecology_2_B', 'Ecology_3_B', 'Shops_2_B']\nexpected DistrictId_195, DistrictId_201, DistrictId_207, DistrictId_50, DistrictId_133, DistrictId_162, DistrictId_202, DistrictId_199, DistrictId_158, DistrictId_117, DistrictId_174 in input data\ntraining data did not have the following fields: DistrictId_210, DistrictId_198, DistrictId_212, DistrictId_211, DistrictId_206, DistrictId_203, DistrictId_204"
     ]
    }
   ],
   "source": [
    "predictions = model.predict(dtest)"
   ]
  },
  {
   "cell_type": "markdown",
   "metadata": {},
   "source": [
    "Сохранение файла"
   ]
  },
  {
   "cell_type": "code",
   "execution_count": null,
   "metadata": {},
   "outputs": [],
   "source": [
    "sample_submission['Price'] = predictions\n",
    "print(sample_submission.head())\n",
    "sample_submission.to_csv('Polokainen_Daniil.csv', index=False)"
   ]
  },
  {
   "cell_type": "code",
   "execution_count": null,
   "metadata": {},
   "outputs": [],
   "source": []
  }
 ],
 "metadata": {
  "kernelspec": {
   "display_name": "Python 3",
   "language": "python",
   "name": "python3"
  },
  "language_info": {
   "codemirror_mode": {
    "name": "ipython",
    "version": 3
   },
   "file_extension": ".py",
   "mimetype": "text/x-python",
   "name": "python",
   "nbconvert_exporter": "python",
   "pygments_lexer": "ipython3",
   "version": "3.8.3"
  }
 },
 "nbformat": 4,
 "nbformat_minor": 4
}
